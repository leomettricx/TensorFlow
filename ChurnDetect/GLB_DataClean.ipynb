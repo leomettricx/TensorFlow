{
 "cells": [
  {
   "cell_type": "code",
   "execution_count": 1,
   "metadata": {},
   "outputs": [],
   "source": [
    "# Importando módulos\n",
    "import pandas as pd\n",
    "import numpy as np\n",
    "import matplotlib.pyplot as plt\n",
    "import seaborn as sns\n",
    "%matplotlib inline"
   ]
  },
  {
   "cell_type": "code",
   "execution_count": 2,
   "metadata": {},
   "outputs": [
    {
     "name": "stderr",
     "output_type": "stream",
     "text": [
      "C:\\Users\\leona\\Anaconda3\\lib\\site-packages\\IPython\\core\\interactiveshell.py:2785: DtypeWarning: Columns (11) have mixed types. Specify dtype option on import or set low_memory=False.\n",
      "  interactivity=interactivity, compiler=compiler, result=result)\n"
     ]
    }
   ],
   "source": [
    "#Lendo dataSets\n",
    "df = pd.read_csv('weekly-infos-before.csv')"
   ]
  },
  {
   "cell_type": "code",
   "execution_count": 3,
   "metadata": {},
   "outputs": [
    {
     "name": "stdout",
     "output_type": "stream",
     "text": [
      "<class 'pandas.core.frame.DataFrame'>\n",
      "RangeIndex: 3906649 entries, 0 to 3906648\n",
      "Data columns (total 45 columns):\n",
      "user                                object\n",
      "week                                int64\n",
      "total_sessions                      int64\n",
      "total_mediaids                      int64\n",
      "total_days                          int64\n",
      "total_played                        float64\n",
      "max_played_time                     float64\n",
      "age_without_access                  int64\n",
      "sexo                                object\n",
      "idade                               float64\n",
      "cidade                              object\n",
      "estado                              object\n",
      "android_app_time                    float64\n",
      "ios_app_time                        float64\n",
      "tv_app_time                         float64\n",
      "mobile_web_time                     float64\n",
      "desktop_web_time                    float64\n",
      "time_spent_on_news                  float64\n",
      "time_spent_on_humor                 float64\n",
      "time_spent_on_series                float64\n",
      "time_spent_on_novelas               float64\n",
      "time_spent_on_special               float64\n",
      "time_spent_on_varieties             float64\n",
      "time_spent_on_sports                float64\n",
      "time_spent_on_realities             float64\n",
      "time_spent_on_disclosure            float64\n",
      "time_spent_on_archived              float64\n",
      "time_spent_on_subscribed_content    float64\n",
      "time_spent_on_free_content          float64\n",
      "time_spent_on_grade                 float64\n",
      "video_info_excerpt_time             float64\n",
      "video_info_extra_time               float64\n",
      "video_info_episode_time             float64\n",
      "video_info_time_spent_0_5           float64\n",
      "video_info_time_spent_5_15          float64\n",
      "video_info_time_spent_15_30         float64\n",
      "video_info_time_spent_30_60         float64\n",
      "video_info_time_spent_60mais        float64\n",
      "total_dependents                    int64\n",
      "total_active_dependents             int64\n",
      "total_played_for_dependents         float64\n",
      "tipo_de_cobranca                    object\n",
      "total_cancels                       int64\n",
      "month_subs                          int64\n",
      "assinatura_age                      float64\n",
      "dtypes: float64(31), int64(9), object(5)\n",
      "memory usage: 1.3+ GB\n"
     ]
    }
   ],
   "source": [
    "df.info()"
   ]
  },
  {
   "cell_type": "code",
   "execution_count": 4,
   "metadata": {},
   "outputs": [
    {
     "data": {
      "text/plain": [
       "3906649"
      ]
     },
     "execution_count": 4,
     "metadata": {},
     "output_type": "execute_result"
    }
   ],
   "source": [
    "len(df)"
   ]
  },
  {
   "cell_type": "markdown",
   "metadata": {},
   "source": [
    "#### Colunas vazias em Amarelo"
   ]
  },
  {
   "cell_type": "code",
   "execution_count": 5,
   "metadata": {},
   "outputs": [
    {
     "data": {
      "text/plain": [
       "<matplotlib.axes._subplots.AxesSubplot at 0x1b70d773748>"
      ]
     },
     "execution_count": 5,
     "metadata": {},
     "output_type": "execute_result"
    },
    {
     "data": {
      "image/png": "[encoded data removed]",
      "text/plain": [
       "<Figure size 432x288 with 1 Axes>"
      ]
     },
     "metadata": {},
     "output_type": "display_data"
    }
   ],
   "source": [
    "\n",
    "sns.heatmap(df.isnull(), yticklabels=False, cbar=False,cmap='viridis')"
   ]
  },
  {
   "cell_type": "code",
   "execution_count": 6,
   "metadata": {},
   "outputs": [],
   "source": [
    "def completa(data):\n",
    "    data['sexo'] = data['sexo'].fillna(0)\n",
    "    data['idade'] = data['idade'].fillna(0)\n",
    "    data['cidade'] = data['cidade'].fillna('0')\n",
    "    data['estado'] = data['estado'].fillna('0')\n",
    "    data['android_app_time'] = data['android_app_time'].fillna(0)\n",
    "    data['tipo_de_cobranca'] = data['tipo_de_cobranca'].fillna(0)\n",
    "    "
   ]
  },
  {
   "cell_type": "code",
   "execution_count": 7,
   "metadata": {},
   "outputs": [],
   "source": [
    "completa(df)"
   ]
  },
  {
   "cell_type": "markdown",
   "metadata": {},
   "source": [
    "##### Identifica Tipos de Cobrança para trocar por números"
   ]
  },
  {
   "cell_type": "code",
   "execution_count": 8,
   "metadata": {},
   "outputs": [],
   "source": [
    "tipo_de_cobranca = df['tipo_de_cobranca']"
   ]
  },
  {
   "cell_type": "code",
   "execution_count": 9,
   "metadata": {},
   "outputs": [],
   "source": [
    "tipo_de_cobranca = tipo_de_cobranca.drop_duplicates()"
   ]
  },
  {
   "cell_type": "code",
   "execution_count": 10,
   "metadata": {},
   "outputs": [
    {
     "data": {
      "text/plain": [
       "0             CARTAO DE CREDITO\n",
       "1             DEBITO AUTOMATICO\n",
       "2                             0\n",
       "69              BOLETO BANCARIO\n",
       "78              IN APP PURCHASE\n",
       "742                  BOLETO WEB\n",
       "5686                  GIFT CARD\n",
       "58686        DEBITO INSTANTANEO\n",
       "100225    DEPOSITO IDENTIFICADO\n",
       "Name: tipo_de_cobranca, dtype: object"
      ]
     },
     "execution_count": 10,
     "metadata": {},
     "output_type": "execute_result"
    }
   ],
   "source": [
    "tipo_de_cobranca"
   ]
  },
  {
   "cell_type": "code",
   "execution_count": 11,
   "metadata": {},
   "outputs": [],
   "source": [
    "# Troca valores String por Numeros\n",
    "def troca(data7):\n",
    "   data7['sexo'].replace(['M','F'],[1,2],inplace=True) \n",
    "   data7['tipo_de_cobranca'].replace(['CARTAO DE CREDITO','DEBITO AUTOMATICO','BOLETO BANCARIO','IN APP PURCHASE','BOLETO WEB','GIFT CARD','DEBITO INSTANTANEO','DEPOSITO IDENTIFICADO']\n",
    "                               ,[1,2,3,4,5,6,7,8],inplace=True)"
   ]
  },
  {
   "cell_type": "code",
   "execution_count": 12,
   "metadata": {},
   "outputs": [],
   "source": [
    "troca(df)"
   ]
  },
  {
   "cell_type": "code",
   "execution_count": 13,
   "metadata": {},
   "outputs": [],
   "source": [
    "str_cols = df.columns[df.dtypes== float]\n",
    "df[str_cols] = df[str_cols].fillna(0)"
   ]
  },
  {
   "cell_type": "code",
   "execution_count": 14,
   "metadata": {},
   "outputs": [
    {
     "data": {
      "text/plain": [
       "Series([], dtype: float64)"
      ]
     },
     "execution_count": 14,
     "metadata": {},
     "output_type": "execute_result"
    }
   ],
   "source": [
    "# Conta o número de Colunas com Null\n",
    "null_columns=df.columns[df.isnull().any()]\n",
    "df[null_columns].isnull().sum()"
   ]
  },
  {
   "cell_type": "code",
   "execution_count": 15,
   "metadata": {},
   "outputs": [
    {
     "data": {
      "text/html": [
       "<div>\n",
       "<style scoped>\n",
       "    .dataframe tbody tr th:only-of-type {\n",
       "        vertical-align: middle;\n",
       "    }\n",
       "\n",
       "    .dataframe tbody tr th {\n",
       "        vertical-align: top;\n",
       "    }\n",
       "\n",
       "    .dataframe thead th {\n",
       "        text-align: right;\n",
       "    }\n",
       "</style>\n",
       "<table border=\"1\" class=\"dataframe\">\n",
       "  <thead>\n",
       "    <tr style=\"text-align: right;\">\n",
       "      <th></th>\n",
       "      <th>user</th>\n",
       "      <th>week</th>\n",
       "      <th>total_sessions</th>\n",
       "      <th>total_mediaids</th>\n",
       "      <th>total_days</th>\n",
       "      <th>total_played</th>\n",
       "      <th>max_played_time</th>\n",
       "      <th>age_without_access</th>\n",
       "      <th>sexo</th>\n",
       "      <th>idade</th>\n",
       "      <th>...</th>\n",
       "      <th>video_info_time_spent_15_30</th>\n",
       "      <th>video_info_time_spent_30_60</th>\n",
       "      <th>video_info_time_spent_60mais</th>\n",
       "      <th>total_dependents</th>\n",
       "      <th>total_active_dependents</th>\n",
       "      <th>total_played_for_dependents</th>\n",
       "      <th>tipo_de_cobranca</th>\n",
       "      <th>total_cancels</th>\n",
       "      <th>month_subs</th>\n",
       "      <th>assinatura_age</th>\n",
       "    </tr>\n",
       "  </thead>\n",
       "  <tbody>\n",
       "    <tr>\n",
       "      <th>0</th>\n",
       "      <td>so7GZdbcbHAJvHLMz8hqrb4215jh-zJIWXRmTFUNCtQ=</td>\n",
       "      <td>1</td>\n",
       "      <td>1</td>\n",
       "      <td>3</td>\n",
       "      <td>1</td>\n",
       "      <td>48.14</td>\n",
       "      <td>48.14</td>\n",
       "      <td>-292</td>\n",
       "      <td>1</td>\n",
       "      <td>53.0</td>\n",
       "      <td>...</td>\n",
       "      <td>0.0</td>\n",
       "      <td>45.963833</td>\n",
       "      <td>0.0</td>\n",
       "      <td>0</td>\n",
       "      <td>0</td>\n",
       "      <td>0.0</td>\n",
       "      <td>1</td>\n",
       "      <td>2</td>\n",
       "      <td>10</td>\n",
       "      <td>2337.0</td>\n",
       "    </tr>\n",
       "    <tr>\n",
       "      <th>1</th>\n",
       "      <td>P1Q529iTlIQRDHgKKRyKoGLEX2jE3kZe9ziVCyShEFw=</td>\n",
       "      <td>1</td>\n",
       "      <td>1</td>\n",
       "      <td>1</td>\n",
       "      <td>1</td>\n",
       "      <td>0.90</td>\n",
       "      <td>0.90</td>\n",
       "      <td>0</td>\n",
       "      <td>1</td>\n",
       "      <td>29.0</td>\n",
       "      <td>...</td>\n",
       "      <td>0.0</td>\n",
       "      <td>0.000000</td>\n",
       "      <td>0.0</td>\n",
       "      <td>0</td>\n",
       "      <td>0</td>\n",
       "      <td>0.0</td>\n",
       "      <td>2</td>\n",
       "      <td>1</td>\n",
       "      <td>3</td>\n",
       "      <td>1.0</td>\n",
       "    </tr>\n",
       "    <tr>\n",
       "      <th>2</th>\n",
       "      <td>WPGY8FeCyrvDTMRbURnLGCJ1QWFKTP8kgAAW92FSKTk=</td>\n",
       "      <td>1</td>\n",
       "      <td>1</td>\n",
       "      <td>1</td>\n",
       "      <td>1</td>\n",
       "      <td>12.68</td>\n",
       "      <td>12.68</td>\n",
       "      <td>-279</td>\n",
       "      <td>1</td>\n",
       "      <td>25.0</td>\n",
       "      <td>...</td>\n",
       "      <td>0.0</td>\n",
       "      <td>0.000000</td>\n",
       "      <td>0.0</td>\n",
       "      <td>0</td>\n",
       "      <td>0</td>\n",
       "      <td>0.0</td>\n",
       "      <td>0</td>\n",
       "      <td>1</td>\n",
       "      <td>8</td>\n",
       "      <td>194.0</td>\n",
       "    </tr>\n",
       "    <tr>\n",
       "      <th>3</th>\n",
       "      <td>0Tw9SBl0wiXW0Fhb-s8IRf8nbnhs2iKBH6ONxBne5ho=</td>\n",
       "      <td>1</td>\n",
       "      <td>1</td>\n",
       "      <td>1</td>\n",
       "      <td>1</td>\n",
       "      <td>27.01</td>\n",
       "      <td>27.01</td>\n",
       "      <td>0</td>\n",
       "      <td>0</td>\n",
       "      <td>0.0</td>\n",
       "      <td>...</td>\n",
       "      <td>0.0</td>\n",
       "      <td>0.000000</td>\n",
       "      <td>0.0</td>\n",
       "      <td>0</td>\n",
       "      <td>0</td>\n",
       "      <td>0.0</td>\n",
       "      <td>2</td>\n",
       "      <td>1</td>\n",
       "      <td>2</td>\n",
       "      <td>36.0</td>\n",
       "    </tr>\n",
       "    <tr>\n",
       "      <th>4</th>\n",
       "      <td>X4f_bBYnBTL8_wN_CRB4yH9_G9B3JnUC9m45GwJ6_Ew=</td>\n",
       "      <td>1</td>\n",
       "      <td>1</td>\n",
       "      <td>12</td>\n",
       "      <td>1</td>\n",
       "      <td>1.16</td>\n",
       "      <td>1.16</td>\n",
       "      <td>0</td>\n",
       "      <td>1</td>\n",
       "      <td>54.0</td>\n",
       "      <td>...</td>\n",
       "      <td>0.0</td>\n",
       "      <td>0.000000</td>\n",
       "      <td>0.0</td>\n",
       "      <td>0</td>\n",
       "      <td>0</td>\n",
       "      <td>0.0</td>\n",
       "      <td>1</td>\n",
       "      <td>1</td>\n",
       "      <td>7</td>\n",
       "      <td>239.0</td>\n",
       "    </tr>\n",
       "  </tbody>\n",
       "</table>\n",
       "<p>5 rows × 45 columns</p>\n",
       "</div>"
      ],
      "text/plain": [
       "                                           user  week  total_sessions  \\\n",
       "0  so7GZdbcbHAJvHLMz8hqrb4215jh-zJIWXRmTFUNCtQ=     1               1   \n",
       "1  P1Q529iTlIQRDHgKKRyKoGLEX2jE3kZe9ziVCyShEFw=     1               1   \n",
       "2  WPGY8FeCyrvDTMRbURnLGCJ1QWFKTP8kgAAW92FSKTk=     1               1   \n",
       "3  0Tw9SBl0wiXW0Fhb-s8IRf8nbnhs2iKBH6ONxBne5ho=     1               1   \n",
       "4  X4f_bBYnBTL8_wN_CRB4yH9_G9B3JnUC9m45GwJ6_Ew=     1               1   \n",
       "\n",
       "   total_mediaids  total_days  total_played  max_played_time  \\\n",
       "0               3           1         48.14            48.14   \n",
       "1               1           1          0.90             0.90   \n",
       "2               1           1         12.68            12.68   \n",
       "3               1           1         27.01            27.01   \n",
       "4              12           1          1.16             1.16   \n",
       "\n",
       "   age_without_access sexo  idade       ...       video_info_time_spent_15_30  \\\n",
       "0                -292    1   53.0       ...                               0.0   \n",
       "1                   0    1   29.0       ...                               0.0   \n",
       "2                -279    1   25.0       ...                               0.0   \n",
       "3                   0    0    0.0       ...                               0.0   \n",
       "4                   0    1   54.0       ...                               0.0   \n",
       "\n",
       "  video_info_time_spent_30_60  video_info_time_spent_60mais  total_dependents  \\\n",
       "0                   45.963833                           0.0                 0   \n",
       "1                    0.000000                           0.0                 0   \n",
       "2                    0.000000                           0.0                 0   \n",
       "3                    0.000000                           0.0                 0   \n",
       "4                    0.000000                           0.0                 0   \n",
       "\n",
       "   total_active_dependents  total_played_for_dependents  tipo_de_cobranca  \\\n",
       "0                        0                          0.0                 1   \n",
       "1                        0                          0.0                 2   \n",
       "2                        0                          0.0                 0   \n",
       "3                        0                          0.0                 2   \n",
       "4                        0                          0.0                 1   \n",
       "\n",
       "   total_cancels  month_subs  assinatura_age  \n",
       "0              2          10          2337.0  \n",
       "1              1           3             1.0  \n",
       "2              1           8           194.0  \n",
       "3              1           2            36.0  \n",
       "4              1           7           239.0  \n",
       "\n",
       "[5 rows x 45 columns]"
      ]
     },
     "execution_count": 15,
     "metadata": {},
     "output_type": "execute_result"
    }
   ],
   "source": [
    "df.head()"
   ]
  },
  {
   "cell_type": "code",
   "execution_count": 16,
   "metadata": {},
   "outputs": [],
   "source": [
    "#Lendo dataSets\n",
    "df1 = pd.read_csv('user-status-after.csv')"
   ]
  },
  {
   "cell_type": "code",
   "execution_count": 17,
   "metadata": {},
   "outputs": [
    {
     "data": {
      "text/html": [
       "<div>\n",
       "<style scoped>\n",
       "    .dataframe tbody tr th:only-of-type {\n",
       "        vertical-align: middle;\n",
       "    }\n",
       "\n",
       "    .dataframe tbody tr th {\n",
       "        vertical-align: top;\n",
       "    }\n",
       "\n",
       "    .dataframe thead th {\n",
       "        text-align: right;\n",
       "    }\n",
       "</style>\n",
       "<table border=\"1\" class=\"dataframe\">\n",
       "  <thead>\n",
       "    <tr style=\"text-align: right;\">\n",
       "      <th></th>\n",
       "      <th>user</th>\n",
       "      <th>status</th>\n",
       "    </tr>\n",
       "  </thead>\n",
       "  <tbody>\n",
       "    <tr>\n",
       "      <th>0</th>\n",
       "      <td>so7GZdbcbHAJvHLMz8hqrb4215jh-zJIWXRmTFUNCtQ=</td>\n",
       "      <td>cancelou</td>\n",
       "    </tr>\n",
       "    <tr>\n",
       "      <th>1</th>\n",
       "      <td>P1Q529iTlIQRDHgKKRyKoGLEX2jE3kZe9ziVCyShEFw=</td>\n",
       "      <td>cancelou</td>\n",
       "    </tr>\n",
       "    <tr>\n",
       "      <th>2</th>\n",
       "      <td>WPGY8FeCyrvDTMRbURnLGCJ1QWFKTP8kgAAW92FSKTk=</td>\n",
       "      <td>cancelou</td>\n",
       "    </tr>\n",
       "    <tr>\n",
       "      <th>3</th>\n",
       "      <td>0Tw9SBl0wiXW0Fhb-s8IRf8nbnhs2iKBH6ONxBne5ho=</td>\n",
       "      <td>cancelou</td>\n",
       "    </tr>\n",
       "    <tr>\n",
       "      <th>4</th>\n",
       "      <td>X4f_bBYnBTL8_wN_CRB4yH9_G9B3JnUC9m45GwJ6_Ew=</td>\n",
       "      <td>cancelou</td>\n",
       "    </tr>\n",
       "  </tbody>\n",
       "</table>\n",
       "</div>"
      ],
      "text/plain": [
       "                                           user    status\n",
       "0  so7GZdbcbHAJvHLMz8hqrb4215jh-zJIWXRmTFUNCtQ=  cancelou\n",
       "1  P1Q529iTlIQRDHgKKRyKoGLEX2jE3kZe9ziVCyShEFw=  cancelou\n",
       "2  WPGY8FeCyrvDTMRbURnLGCJ1QWFKTP8kgAAW92FSKTk=  cancelou\n",
       "3  0Tw9SBl0wiXW0Fhb-s8IRf8nbnhs2iKBH6ONxBne5ho=  cancelou\n",
       "4  X4f_bBYnBTL8_wN_CRB4yH9_G9B3JnUC9m45GwJ6_Ew=  cancelou"
      ]
     },
     "execution_count": 17,
     "metadata": {},
     "output_type": "execute_result"
    }
   ],
   "source": [
    "df1.head()"
   ]
  },
  {
   "cell_type": "markdown",
   "metadata": {},
   "source": [
    "#### Colocando o status/Churn na tabela weekly-infos (Merge das Tabelas)"
   ]
  },
  {
   "cell_type": "code",
   "execution_count": 18,
   "metadata": {},
   "outputs": [],
   "source": [
    "df_Status = pd.merge(df, df1, left_on = 'user', right_on = 'user')"
   ]
  },
  {
   "cell_type": "code",
   "execution_count": 19,
   "metadata": {},
   "outputs": [
    {
     "data": {
      "text/plain": [
       "3906649"
      ]
     },
     "execution_count": 19,
     "metadata": {},
     "output_type": "execute_result"
    }
   ],
   "source": [
    "len(df_Status)"
   ]
  },
  {
   "cell_type": "code",
   "execution_count": 20,
   "metadata": {},
   "outputs": [
    {
     "data": {
      "text/html": [
       "<div>\n",
       "<style scoped>\n",
       "    .dataframe tbody tr th:only-of-type {\n",
       "        vertical-align: middle;\n",
       "    }\n",
       "\n",
       "    .dataframe tbody tr th {\n",
       "        vertical-align: top;\n",
       "    }\n",
       "\n",
       "    .dataframe thead th {\n",
       "        text-align: right;\n",
       "    }\n",
       "</style>\n",
       "<table border=\"1\" class=\"dataframe\">\n",
       "  <thead>\n",
       "    <tr style=\"text-align: right;\">\n",
       "      <th></th>\n",
       "      <th>user</th>\n",
       "      <th>week</th>\n",
       "      <th>total_sessions</th>\n",
       "      <th>total_mediaids</th>\n",
       "      <th>total_days</th>\n",
       "      <th>total_played</th>\n",
       "      <th>max_played_time</th>\n",
       "      <th>age_without_access</th>\n",
       "      <th>sexo</th>\n",
       "      <th>idade</th>\n",
       "      <th>...</th>\n",
       "      <th>video_info_time_spent_30_60</th>\n",
       "      <th>video_info_time_spent_60mais</th>\n",
       "      <th>total_dependents</th>\n",
       "      <th>total_active_dependents</th>\n",
       "      <th>total_played_for_dependents</th>\n",
       "      <th>tipo_de_cobranca</th>\n",
       "      <th>total_cancels</th>\n",
       "      <th>month_subs</th>\n",
       "      <th>assinatura_age</th>\n",
       "      <th>status</th>\n",
       "    </tr>\n",
       "  </thead>\n",
       "  <tbody>\n",
       "    <tr>\n",
       "      <th>0</th>\n",
       "      <td>so7GZdbcbHAJvHLMz8hqrb4215jh-zJIWXRmTFUNCtQ=</td>\n",
       "      <td>1</td>\n",
       "      <td>1</td>\n",
       "      <td>3</td>\n",
       "      <td>1</td>\n",
       "      <td>48.14</td>\n",
       "      <td>48.14</td>\n",
       "      <td>-292</td>\n",
       "      <td>1</td>\n",
       "      <td>53.0</td>\n",
       "      <td>...</td>\n",
       "      <td>45.963833</td>\n",
       "      <td>0.0</td>\n",
       "      <td>0</td>\n",
       "      <td>0</td>\n",
       "      <td>0.0</td>\n",
       "      <td>1</td>\n",
       "      <td>2</td>\n",
       "      <td>10</td>\n",
       "      <td>2337.0</td>\n",
       "      <td>cancelou</td>\n",
       "    </tr>\n",
       "    <tr>\n",
       "      <th>1</th>\n",
       "      <td>so7GZdbcbHAJvHLMz8hqrb4215jh-zJIWXRmTFUNCtQ=</td>\n",
       "      <td>6</td>\n",
       "      <td>4</td>\n",
       "      <td>34</td>\n",
       "      <td>3</td>\n",
       "      <td>113.93</td>\n",
       "      <td>60.98</td>\n",
       "      <td>-292</td>\n",
       "      <td>1</td>\n",
       "      <td>53.0</td>\n",
       "      <td>...</td>\n",
       "      <td>47.086083</td>\n",
       "      <td>0.0</td>\n",
       "      <td>0</td>\n",
       "      <td>0</td>\n",
       "      <td>0.0</td>\n",
       "      <td>1</td>\n",
       "      <td>2</td>\n",
       "      <td>10</td>\n",
       "      <td>2337.0</td>\n",
       "      <td>cancelou</td>\n",
       "    </tr>\n",
       "    <tr>\n",
       "      <th>2</th>\n",
       "      <td>so7GZdbcbHAJvHLMz8hqrb4215jh-zJIWXRmTFUNCtQ=</td>\n",
       "      <td>7</td>\n",
       "      <td>1</td>\n",
       "      <td>3</td>\n",
       "      <td>1</td>\n",
       "      <td>23.98</td>\n",
       "      <td>23.98</td>\n",
       "      <td>-292</td>\n",
       "      <td>1</td>\n",
       "      <td>53.0</td>\n",
       "      <td>...</td>\n",
       "      <td>0.000000</td>\n",
       "      <td>0.0</td>\n",
       "      <td>0</td>\n",
       "      <td>0</td>\n",
       "      <td>0.0</td>\n",
       "      <td>1</td>\n",
       "      <td>2</td>\n",
       "      <td>10</td>\n",
       "      <td>2337.0</td>\n",
       "      <td>cancelou</td>\n",
       "    </tr>\n",
       "    <tr>\n",
       "      <th>3</th>\n",
       "      <td>so7GZdbcbHAJvHLMz8hqrb4215jh-zJIWXRmTFUNCtQ=</td>\n",
       "      <td>8</td>\n",
       "      <td>1</td>\n",
       "      <td>1</td>\n",
       "      <td>1</td>\n",
       "      <td>7.62</td>\n",
       "      <td>7.62</td>\n",
       "      <td>-292</td>\n",
       "      <td>1</td>\n",
       "      <td>53.0</td>\n",
       "      <td>...</td>\n",
       "      <td>7.617617</td>\n",
       "      <td>0.0</td>\n",
       "      <td>0</td>\n",
       "      <td>0</td>\n",
       "      <td>0.0</td>\n",
       "      <td>1</td>\n",
       "      <td>2</td>\n",
       "      <td>10</td>\n",
       "      <td>2337.0</td>\n",
       "      <td>cancelou</td>\n",
       "    </tr>\n",
       "    <tr>\n",
       "      <th>4</th>\n",
       "      <td>so7GZdbcbHAJvHLMz8hqrb4215jh-zJIWXRmTFUNCtQ=</td>\n",
       "      <td>5</td>\n",
       "      <td>1</td>\n",
       "      <td>1</td>\n",
       "      <td>1</td>\n",
       "      <td>46.98</td>\n",
       "      <td>46.98</td>\n",
       "      <td>-292</td>\n",
       "      <td>1</td>\n",
       "      <td>53.0</td>\n",
       "      <td>...</td>\n",
       "      <td>46.981733</td>\n",
       "      <td>0.0</td>\n",
       "      <td>0</td>\n",
       "      <td>0</td>\n",
       "      <td>0.0</td>\n",
       "      <td>1</td>\n",
       "      <td>2</td>\n",
       "      <td>10</td>\n",
       "      <td>2337.0</td>\n",
       "      <td>cancelou</td>\n",
       "    </tr>\n",
       "  </tbody>\n",
       "</table>\n",
       "<p>5 rows × 46 columns</p>\n",
       "</div>"
      ],
      "text/plain": [
       "                                           user  week  total_sessions  \\\n",
       "0  so7GZdbcbHAJvHLMz8hqrb4215jh-zJIWXRmTFUNCtQ=     1               1   \n",
       "1  so7GZdbcbHAJvHLMz8hqrb4215jh-zJIWXRmTFUNCtQ=     6               4   \n",
       "2  so7GZdbcbHAJvHLMz8hqrb4215jh-zJIWXRmTFUNCtQ=     7               1   \n",
       "3  so7GZdbcbHAJvHLMz8hqrb4215jh-zJIWXRmTFUNCtQ=     8               1   \n",
       "4  so7GZdbcbHAJvHLMz8hqrb4215jh-zJIWXRmTFUNCtQ=     5               1   \n",
       "\n",
       "   total_mediaids  total_days  total_played  max_played_time  \\\n",
       "0               3           1         48.14            48.14   \n",
       "1              34           3        113.93            60.98   \n",
       "2               3           1         23.98            23.98   \n",
       "3               1           1          7.62             7.62   \n",
       "4               1           1         46.98            46.98   \n",
       "\n",
       "   age_without_access sexo  idade    ...    video_info_time_spent_30_60  \\\n",
       "0                -292    1   53.0    ...                      45.963833   \n",
       "1                -292    1   53.0    ...                      47.086083   \n",
       "2                -292    1   53.0    ...                       0.000000   \n",
       "3                -292    1   53.0    ...                       7.617617   \n",
       "4                -292    1   53.0    ...                      46.981733   \n",
       "\n",
       "  video_info_time_spent_60mais  total_dependents  total_active_dependents  \\\n",
       "0                          0.0                 0                        0   \n",
       "1                          0.0                 0                        0   \n",
       "2                          0.0                 0                        0   \n",
       "3                          0.0                 0                        0   \n",
       "4                          0.0                 0                        0   \n",
       "\n",
       "   total_played_for_dependents  tipo_de_cobranca  total_cancels  month_subs  \\\n",
       "0                          0.0                 1              2          10   \n",
       "1                          0.0                 1              2          10   \n",
       "2                          0.0                 1              2          10   \n",
       "3                          0.0                 1              2          10   \n",
       "4                          0.0                 1              2          10   \n",
       "\n",
       "   assinatura_age    status  \n",
       "0          2337.0  cancelou  \n",
       "1          2337.0  cancelou  \n",
       "2          2337.0  cancelou  \n",
       "3          2337.0  cancelou  \n",
       "4          2337.0  cancelou  \n",
       "\n",
       "[5 rows x 46 columns]"
      ]
     },
     "execution_count": 20,
     "metadata": {},
     "output_type": "execute_result"
    }
   ],
   "source": [
    "df_Status.head()"
   ]
  },
  {
   "cell_type": "markdown",
   "metadata": {},
   "source": [
    "#### Converte status para Int"
   ]
  },
  {
   "cell_type": "code",
   "execution_count": 21,
   "metadata": {},
   "outputs": [],
   "source": [
    "df_Status['status'].replace(['assinante','cancelou'],[0,1],inplace=True) "
   ]
  },
  {
   "cell_type": "markdown",
   "metadata": {},
   "source": [
    "#### Análise dos Clientes"
   ]
  },
  {
   "cell_type": "code",
   "execution_count": 22,
   "metadata": {},
   "outputs": [],
   "source": [
    "df_User =  df_Status[['user','sexo','idade','cidade','estado','total_dependents','tipo_de_cobranca','assinatura_age','status']]"
   ]
  },
  {
   "cell_type": "code",
   "execution_count": 23,
   "metadata": {},
   "outputs": [],
   "source": [
    "df_User = df_User.drop_duplicates(['user'],keep= 'last').reset_index(drop=True)"
   ]
  },
  {
   "cell_type": "markdown",
   "metadata": {},
   "source": [
    "##### Calculando qtas semanas cada cliente utilizou a Assinatura"
   ]
  },
  {
   "cell_type": "code",
   "execution_count": 25,
   "metadata": {},
   "outputs": [],
   "source": [
    "df_Num_Weeks = df.groupby(['user'])['week'].count()\n",
    "df_Num_Weeks = df_Num_Weeks.to_frame().reset_index()"
   ]
  },
  {
   "cell_type": "code",
   "execution_count": 26,
   "metadata": {},
   "outputs": [
    {
     "data": {
      "text/html": [
       "<div>\n",
       "<style scoped>\n",
       "    .dataframe tbody tr th:only-of-type {\n",
       "        vertical-align: middle;\n",
       "    }\n",
       "\n",
       "    .dataframe tbody tr th {\n",
       "        vertical-align: top;\n",
       "    }\n",
       "\n",
       "    .dataframe thead th {\n",
       "        text-align: right;\n",
       "    }\n",
       "</style>\n",
       "<table border=\"1\" class=\"dataframe\">\n",
       "  <thead>\n",
       "    <tr style=\"text-align: right;\">\n",
       "      <th></th>\n",
       "      <th>user</th>\n",
       "      <th>week</th>\n",
       "    </tr>\n",
       "  </thead>\n",
       "  <tbody>\n",
       "    <tr>\n",
       "      <th>561153</th>\n",
       "      <td>zzxfo5nkMy6E9Pv72UvTtcZfp9fWAlqlprYrzVd0jT0=</td>\n",
       "      <td>16</td>\n",
       "    </tr>\n",
       "    <tr>\n",
       "      <th>561154</th>\n",
       "      <td>zzy7CDXqvykp-g7-IlF1U_ajfBaUvdcT9uH-MsKsQak=</td>\n",
       "      <td>14</td>\n",
       "    </tr>\n",
       "    <tr>\n",
       "      <th>561155</th>\n",
       "      <td>zzyPBy5CY7VDU-HbHF1c184kkHCpP3DMxsrfj1zQ0m8=</td>\n",
       "      <td>10</td>\n",
       "    </tr>\n",
       "    <tr>\n",
       "      <th>561156</th>\n",
       "      <td>zzzk3q8rBw-2DfoS6lAjEaqdBkUlU__gDvi1q2igI3U=</td>\n",
       "      <td>9</td>\n",
       "    </tr>\n",
       "    <tr>\n",
       "      <th>561157</th>\n",
       "      <td>zzzwaYosOe-v4qYPcZ2ZyG8o_twrw-YwMs4GAFooL9c=</td>\n",
       "      <td>1</td>\n",
       "    </tr>\n",
       "  </tbody>\n",
       "</table>\n",
       "</div>"
      ],
      "text/plain": [
       "                                                user  week\n",
       "561153  zzxfo5nkMy6E9Pv72UvTtcZfp9fWAlqlprYrzVd0jT0=    16\n",
       "561154  zzy7CDXqvykp-g7-IlF1U_ajfBaUvdcT9uH-MsKsQak=    14\n",
       "561155  zzyPBy5CY7VDU-HbHF1c184kkHCpP3DMxsrfj1zQ0m8=    10\n",
       "561156  zzzk3q8rBw-2DfoS6lAjEaqdBkUlU__gDvi1q2igI3U=     9\n",
       "561157  zzzwaYosOe-v4qYPcZ2ZyG8o_twrw-YwMs4GAFooL9c=     1"
      ]
     },
     "execution_count": 26,
     "metadata": {},
     "output_type": "execute_result"
    }
   ],
   "source": [
    "df_Num_Weeks.tail()"
   ]
  },
  {
   "cell_type": "markdown",
   "metadata": {},
   "source": [
    "#### Colocando o status na tabela weekly-infos"
   ]
  },
  {
   "cell_type": "code",
   "execution_count": 27,
   "metadata": {},
   "outputs": [],
   "source": [
    "df_User_Weeks = pd.merge(df_User, df_Num_Weeks, left_on = 'user', right_on = 'user')"
   ]
  },
  {
   "cell_type": "code",
   "execution_count": 28,
   "metadata": {},
   "outputs": [],
   "source": [
    "df_User_Weeks = df_User_Weeks.rename(columns={'week': 'NumWeeks'})"
   ]
  },
  {
   "cell_type": "markdown",
   "metadata": {},
   "source": [
    "#### Num de Clientes"
   ]
  },
  {
   "cell_type": "code",
   "execution_count": 29,
   "metadata": {},
   "outputs": [
    {
     "data": {
      "text/plain": [
       "561158"
      ]
     },
     "execution_count": 29,
     "metadata": {},
     "output_type": "execute_result"
    }
   ],
   "source": [
    "len(df_User_Weeks)"
   ]
  },
  {
   "cell_type": "code",
   "execution_count": 30,
   "metadata": {},
   "outputs": [
    {
     "data": {
      "text/html": [
       "<div>\n",
       "<style scoped>\n",
       "    .dataframe tbody tr th:only-of-type {\n",
       "        vertical-align: middle;\n",
       "    }\n",
       "\n",
       "    .dataframe tbody tr th {\n",
       "        vertical-align: top;\n",
       "    }\n",
       "\n",
       "    .dataframe thead th {\n",
       "        text-align: right;\n",
       "    }\n",
       "</style>\n",
       "<table border=\"1\" class=\"dataframe\">\n",
       "  <thead>\n",
       "    <tr style=\"text-align: right;\">\n",
       "      <th></th>\n",
       "      <th>user</th>\n",
       "      <th>sexo</th>\n",
       "      <th>idade</th>\n",
       "      <th>cidade</th>\n",
       "      <th>estado</th>\n",
       "      <th>total_dependents</th>\n",
       "      <th>tipo_de_cobranca</th>\n",
       "      <th>assinatura_age</th>\n",
       "      <th>status</th>\n",
       "      <th>NumWeeks</th>\n",
       "    </tr>\n",
       "  </thead>\n",
       "  <tbody>\n",
       "    <tr>\n",
       "      <th>0</th>\n",
       "      <td>so7GZdbcbHAJvHLMz8hqrb4215jh-zJIWXRmTFUNCtQ=</td>\n",
       "      <td>1</td>\n",
       "      <td>53.0</td>\n",
       "      <td>São Vicente</td>\n",
       "      <td>Sao Paulo</td>\n",
       "      <td>0</td>\n",
       "      <td>1</td>\n",
       "      <td>2337.0</td>\n",
       "      <td>1</td>\n",
       "      <td>6</td>\n",
       "    </tr>\n",
       "    <tr>\n",
       "      <th>1</th>\n",
       "      <td>P1Q529iTlIQRDHgKKRyKoGLEX2jE3kZe9ziVCyShEFw=</td>\n",
       "      <td>1</td>\n",
       "      <td>29.0</td>\n",
       "      <td>Guarulhos</td>\n",
       "      <td>Sao Paulo</td>\n",
       "      <td>0</td>\n",
       "      <td>2</td>\n",
       "      <td>1.0</td>\n",
       "      <td>1</td>\n",
       "      <td>1</td>\n",
       "    </tr>\n",
       "    <tr>\n",
       "      <th>2</th>\n",
       "      <td>WPGY8FeCyrvDTMRbURnLGCJ1QWFKTP8kgAAW92FSKTk=</td>\n",
       "      <td>1</td>\n",
       "      <td>25.0</td>\n",
       "      <td>Taguatinga</td>\n",
       "      <td>Distrito Federal</td>\n",
       "      <td>0</td>\n",
       "      <td>0</td>\n",
       "      <td>194.0</td>\n",
       "      <td>1</td>\n",
       "      <td>5</td>\n",
       "    </tr>\n",
       "    <tr>\n",
       "      <th>3</th>\n",
       "      <td>0Tw9SBl0wiXW0Fhb-s8IRf8nbnhs2iKBH6ONxBne5ho=</td>\n",
       "      <td>0</td>\n",
       "      <td>0.0</td>\n",
       "      <td>0</td>\n",
       "      <td>0</td>\n",
       "      <td>0</td>\n",
       "      <td>2</td>\n",
       "      <td>36.0</td>\n",
       "      <td>1</td>\n",
       "      <td>5</td>\n",
       "    </tr>\n",
       "    <tr>\n",
       "      <th>4</th>\n",
       "      <td>X4f_bBYnBTL8_wN_CRB4yH9_G9B3JnUC9m45GwJ6_Ew=</td>\n",
       "      <td>1</td>\n",
       "      <td>54.0</td>\n",
       "      <td>Triunfo</td>\n",
       "      <td>Pernambuco</td>\n",
       "      <td>0</td>\n",
       "      <td>1</td>\n",
       "      <td>239.0</td>\n",
       "      <td>1</td>\n",
       "      <td>2</td>\n",
       "    </tr>\n",
       "  </tbody>\n",
       "</table>\n",
       "</div>"
      ],
      "text/plain": [
       "                                           user sexo  idade       cidade  \\\n",
       "0  so7GZdbcbHAJvHLMz8hqrb4215jh-zJIWXRmTFUNCtQ=    1   53.0  São Vicente   \n",
       "1  P1Q529iTlIQRDHgKKRyKoGLEX2jE3kZe9ziVCyShEFw=    1   29.0    Guarulhos   \n",
       "2  WPGY8FeCyrvDTMRbURnLGCJ1QWFKTP8kgAAW92FSKTk=    1   25.0   Taguatinga   \n",
       "3  0Tw9SBl0wiXW0Fhb-s8IRf8nbnhs2iKBH6ONxBne5ho=    0    0.0            0   \n",
       "4  X4f_bBYnBTL8_wN_CRB4yH9_G9B3JnUC9m45GwJ6_Ew=    1   54.0      Triunfo   \n",
       "\n",
       "             estado  total_dependents  tipo_de_cobranca  assinatura_age  \\\n",
       "0         Sao Paulo                 0                 1          2337.0   \n",
       "1         Sao Paulo                 0                 2             1.0   \n",
       "2  Distrito Federal                 0                 0           194.0   \n",
       "3                 0                 0                 2            36.0   \n",
       "4        Pernambuco                 0                 1           239.0   \n",
       "\n",
       "   status  NumWeeks  \n",
       "0       1         6  \n",
       "1       1         1  \n",
       "2       1         5  \n",
       "3       1         5  \n",
       "4       1         2  "
      ]
     },
     "execution_count": 30,
     "metadata": {},
     "output_type": "execute_result"
    }
   ],
   "source": [
    "df_User_Weeks.head()"
   ]
  },
  {
   "cell_type": "markdown",
   "metadata": {},
   "source": [
    "#### Criando features numéricas"
   ]
  },
  {
   "cell_type": "code",
   "execution_count": null,
   "metadata": {},
   "outputs": [],
   "source": []
  },
  {
   "cell_type": "code",
   "execution_count": 31,
   "metadata": {},
   "outputs": [],
   "source": [
    "df_Estado = df_User_Weeks['estado'].reset_index(drop=True)"
   ]
  },
  {
   "cell_type": "code",
   "execution_count": 32,
   "metadata": {},
   "outputs": [],
   "source": [
    "df_Estado = df_Estado.drop_duplicates()"
   ]
  },
  {
   "cell_type": "code",
   "execution_count": 33,
   "metadata": {},
   "outputs": [],
   "source": [
    "df_Estado = df_Estado.to_frame()"
   ]
  },
  {
   "cell_type": "code",
   "execution_count": 34,
   "metadata": {},
   "outputs": [],
   "source": [
    "df_Estado = df_Estado.sort_values(by=['estado'],ascending=True, na_position='first').reset_index(drop=True)\n"
   ]
  },
  {
   "cell_type": "code",
   "execution_count": 35,
   "metadata": {},
   "outputs": [
    {
     "data": {
      "text/html": [
       "<div>\n",
       "<style scoped>\n",
       "    .dataframe tbody tr th:only-of-type {\n",
       "        vertical-align: middle;\n",
       "    }\n",
       "\n",
       "    .dataframe tbody tr th {\n",
       "        vertical-align: top;\n",
       "    }\n",
       "\n",
       "    .dataframe thead th {\n",
       "        text-align: right;\n",
       "    }\n",
       "</style>\n",
       "<table border=\"1\" class=\"dataframe\">\n",
       "  <thead>\n",
       "    <tr style=\"text-align: right;\">\n",
       "      <th></th>\n",
       "      <th>estado</th>\n",
       "    </tr>\n",
       "  </thead>\n",
       "  <tbody>\n",
       "    <tr>\n",
       "      <th>25</th>\n",
       "      <td>Roraima</td>\n",
       "    </tr>\n",
       "    <tr>\n",
       "      <th>26</th>\n",
       "      <td>Santa Catarina</td>\n",
       "    </tr>\n",
       "    <tr>\n",
       "      <th>27</th>\n",
       "      <td>Sao Paulo</td>\n",
       "    </tr>\n",
       "    <tr>\n",
       "      <th>28</th>\n",
       "      <td>Sergipe</td>\n",
       "    </tr>\n",
       "    <tr>\n",
       "      <th>29</th>\n",
       "      <td>Tocantins</td>\n",
       "    </tr>\n",
       "  </tbody>\n",
       "</table>\n",
       "</div>"
      ],
      "text/plain": [
       "            estado\n",
       "25         Roraima\n",
       "26  Santa Catarina\n",
       "27       Sao Paulo\n",
       "28         Sergipe\n",
       "29       Tocantins"
      ]
     },
     "execution_count": 35,
     "metadata": {},
     "output_type": "execute_result"
    }
   ],
   "source": [
    "df_Estado.tail()"
   ]
  },
  {
   "cell_type": "code",
   "execution_count": 36,
   "metadata": {},
   "outputs": [],
   "source": [
    "df_Cidade = df_User_Weeks['cidade'].reset_index(drop=True)"
   ]
  },
  {
   "cell_type": "code",
   "execution_count": 37,
   "metadata": {},
   "outputs": [],
   "source": [
    "df_Cidade = df_Cidade.drop_duplicates()"
   ]
  },
  {
   "cell_type": "code",
   "execution_count": 38,
   "metadata": {},
   "outputs": [],
   "source": [
    "df_Cidade = df_Cidade.to_frame()"
   ]
  },
  {
   "cell_type": "code",
   "execution_count": 39,
   "metadata": {},
   "outputs": [],
   "source": [
    "df_Cidade = df_Cidade.sort_values(by=['cidade'],ascending=True, na_position='first').reset_index(drop=True)"
   ]
  },
  {
   "cell_type": "code",
   "execution_count": 40,
   "metadata": {},
   "outputs": [
    {
     "data": {
      "text/plain": [
       "cidade    Rio Branco\n",
       "Name: 3989, dtype: object"
      ]
     },
     "execution_count": 40,
     "metadata": {},
     "output_type": "execute_result"
    }
   ],
   "source": [
    "df_Cidade.loc[3989]"
   ]
  },
  {
   "cell_type": "code",
   "execution_count": 41,
   "metadata": {},
   "outputs": [
    {
     "data": {
      "text/html": [
       "<div>\n",
       "<style scoped>\n",
       "    .dataframe tbody tr th:only-of-type {\n",
       "        vertical-align: middle;\n",
       "    }\n",
       "\n",
       "    .dataframe tbody tr th {\n",
       "        vertical-align: top;\n",
       "    }\n",
       "\n",
       "    .dataframe thead th {\n",
       "        text-align: right;\n",
       "    }\n",
       "</style>\n",
       "<table border=\"1\" class=\"dataframe\">\n",
       "  <thead>\n",
       "    <tr style=\"text-align: right;\">\n",
       "      <th></th>\n",
       "      <th>cidade</th>\n",
       "    </tr>\n",
       "  </thead>\n",
       "  <tbody>\n",
       "    <tr>\n",
       "      <th>0</th>\n",
       "      <td>*** NAO INFORMADA ***</td>\n",
       "    </tr>\n",
       "    <tr>\n",
       "      <th>1</th>\n",
       "      <td>0</td>\n",
       "    </tr>\n",
       "    <tr>\n",
       "      <th>2</th>\n",
       "      <td>4º Centenário</td>\n",
       "    </tr>\n",
       "    <tr>\n",
       "      <th>3</th>\n",
       "      <td>Abacate da Pedreira (Macapá)</td>\n",
       "    </tr>\n",
       "    <tr>\n",
       "      <th>4</th>\n",
       "      <td>Abadia (Jandaíra)</td>\n",
       "    </tr>\n",
       "  </tbody>\n",
       "</table>\n",
       "</div>"
      ],
      "text/plain": [
       "                         cidade\n",
       "0         *** NAO INFORMADA ***\n",
       "1                             0\n",
       "2                 4º Centenário\n",
       "3  Abacate da Pedreira (Macapá)\n",
       "4             Abadia (Jandaíra)"
      ]
     },
     "execution_count": 41,
     "metadata": {},
     "output_type": "execute_result"
    }
   ],
   "source": [
    "df_Cidade.head()"
   ]
  },
  {
   "cell_type": "code",
   "execution_count": 42,
   "metadata": {},
   "outputs": [],
   "source": [
    "def numCidade(x):\n",
    "    num = df_Cidade[df_Cidade['cidade']==x].index.values.astype(int)[0]\n",
    "    return num"
   ]
  },
  {
   "cell_type": "code",
   "execution_count": 43,
   "metadata": {},
   "outputs": [],
   "source": [
    "def numEstado(x):\n",
    "    num = df_Estado[df_Estado['estado']==x].index.values.astype(int)[0]\n",
    "    return num"
   ]
  },
  {
   "cell_type": "code",
   "execution_count": 44,
   "metadata": {},
   "outputs": [],
   "source": [
    "df_User_Weeks['xEstado'] = df_User_Weeks['estado'].apply(numEstado)"
   ]
  },
  {
   "cell_type": "code",
   "execution_count": 45,
   "metadata": {},
   "outputs": [],
   "source": [
    "df_User_Weeks['xCidade'] = df_User_Weeks['cidade'].apply(numCidade)"
   ]
  },
  {
   "cell_type": "code",
   "execution_count": 46,
   "metadata": {},
   "outputs": [],
   "source": [
    "df_User_Weeks.drop(['cidade', 'estado'], axis=1, inplace=True)\n"
   ]
  },
  {
   "cell_type": "code",
   "execution_count": 47,
   "metadata": {},
   "outputs": [],
   "source": [
    "df_User_Weeks = df_User_Weeks.rename(columns={'status': 'churn'})"
   ]
  },
  {
   "cell_type": "code",
   "execution_count": 48,
   "metadata": {},
   "outputs": [],
   "source": [
    "# Trocando ordem das colunas\n",
    "df_User_Weeks = df_User_Weeks[['user', 'sexo', 'idade', 'total_dependents','tipo_de_cobranca','assinatura_age','xEstado','xCidade','NumWeeks','churn']]\n"
   ]
  },
  {
   "cell_type": "code",
   "execution_count": 49,
   "metadata": {},
   "outputs": [
    {
     "data": {
      "text/html": [
       "<div>\n",
       "<style scoped>\n",
       "    .dataframe tbody tr th:only-of-type {\n",
       "        vertical-align: middle;\n",
       "    }\n",
       "\n",
       "    .dataframe tbody tr th {\n",
       "        vertical-align: top;\n",
       "    }\n",
       "\n",
       "    .dataframe thead th {\n",
       "        text-align: right;\n",
       "    }\n",
       "</style>\n",
       "<table border=\"1\" class=\"dataframe\">\n",
       "  <thead>\n",
       "    <tr style=\"text-align: right;\">\n",
       "      <th></th>\n",
       "      <th>user</th>\n",
       "      <th>sexo</th>\n",
       "      <th>idade</th>\n",
       "      <th>total_dependents</th>\n",
       "      <th>tipo_de_cobranca</th>\n",
       "      <th>assinatura_age</th>\n",
       "      <th>xEstado</th>\n",
       "      <th>xCidade</th>\n",
       "      <th>NumWeeks</th>\n",
       "      <th>churn</th>\n",
       "    </tr>\n",
       "  </thead>\n",
       "  <tbody>\n",
       "    <tr>\n",
       "      <th>0</th>\n",
       "      <td>so7GZdbcbHAJvHLMz8hqrb4215jh-zJIWXRmTFUNCtQ=</td>\n",
       "      <td>1</td>\n",
       "      <td>53.0</td>\n",
       "      <td>0</td>\n",
       "      <td>1</td>\n",
       "      <td>2337.0</td>\n",
       "      <td>27</td>\n",
       "      <td>4772</td>\n",
       "      <td>6</td>\n",
       "      <td>1</td>\n",
       "    </tr>\n",
       "    <tr>\n",
       "      <th>1</th>\n",
       "      <td>P1Q529iTlIQRDHgKKRyKoGLEX2jE3kZe9ziVCyShEFw=</td>\n",
       "      <td>1</td>\n",
       "      <td>29.0</td>\n",
       "      <td>0</td>\n",
       "      <td>2</td>\n",
       "      <td>1.0</td>\n",
       "      <td>27</td>\n",
       "      <td>1987</td>\n",
       "      <td>1</td>\n",
       "      <td>1</td>\n",
       "    </tr>\n",
       "    <tr>\n",
       "      <th>2</th>\n",
       "      <td>WPGY8FeCyrvDTMRbURnLGCJ1QWFKTP8kgAAW92FSKTk=</td>\n",
       "      <td>1</td>\n",
       "      <td>25.0</td>\n",
       "      <td>0</td>\n",
       "      <td>0</td>\n",
       "      <td>194.0</td>\n",
       "      <td>7</td>\n",
       "      <td>4795</td>\n",
       "      <td>5</td>\n",
       "      <td>1</td>\n",
       "    </tr>\n",
       "    <tr>\n",
       "      <th>3</th>\n",
       "      <td>0Tw9SBl0wiXW0Fhb-s8IRf8nbnhs2iKBH6ONxBne5ho=</td>\n",
       "      <td>0</td>\n",
       "      <td>0.0</td>\n",
       "      <td>0</td>\n",
       "      <td>2</td>\n",
       "      <td>36.0</td>\n",
       "      <td>0</td>\n",
       "      <td>1</td>\n",
       "      <td>5</td>\n",
       "      <td>1</td>\n",
       "    </tr>\n",
       "    <tr>\n",
       "      <th>4</th>\n",
       "      <td>X4f_bBYnBTL8_wN_CRB4yH9_G9B3JnUC9m45GwJ6_Ew=</td>\n",
       "      <td>1</td>\n",
       "      <td>54.0</td>\n",
       "      <td>0</td>\n",
       "      <td>1</td>\n",
       "      <td>239.0</td>\n",
       "      <td>19</td>\n",
       "      <td>4941</td>\n",
       "      <td>2</td>\n",
       "      <td>1</td>\n",
       "    </tr>\n",
       "  </tbody>\n",
       "</table>\n",
       "</div>"
      ],
      "text/plain": [
       "                                           user sexo  idade  total_dependents  \\\n",
       "0  so7GZdbcbHAJvHLMz8hqrb4215jh-zJIWXRmTFUNCtQ=    1   53.0                 0   \n",
       "1  P1Q529iTlIQRDHgKKRyKoGLEX2jE3kZe9ziVCyShEFw=    1   29.0                 0   \n",
       "2  WPGY8FeCyrvDTMRbURnLGCJ1QWFKTP8kgAAW92FSKTk=    1   25.0                 0   \n",
       "3  0Tw9SBl0wiXW0Fhb-s8IRf8nbnhs2iKBH6ONxBne5ho=    0    0.0                 0   \n",
       "4  X4f_bBYnBTL8_wN_CRB4yH9_G9B3JnUC9m45GwJ6_Ew=    1   54.0                 0   \n",
       "\n",
       "   tipo_de_cobranca  assinatura_age  xEstado  xCidade  NumWeeks  churn  \n",
       "0                 1          2337.0       27     4772         6      1  \n",
       "1                 2             1.0       27     1987         1      1  \n",
       "2                 0           194.0        7     4795         5      1  \n",
       "3                 2            36.0        0        1         5      1  \n",
       "4                 1           239.0       19     4941         2      1  "
      ]
     },
     "execution_count": 49,
     "metadata": {},
     "output_type": "execute_result"
    }
   ],
   "source": [
    "df_User_Weeks.head()"
   ]
  },
  {
   "cell_type": "markdown",
   "metadata": {},
   "source": [
    "#### Gravando a Tabela User com Novas Features"
   ]
  },
  {
   "cell_type": "code",
   "execution_count": 50,
   "metadata": {},
   "outputs": [],
   "source": [
    "df_User_Weeks.to_csv('User.csv',decimal='.',float_format='%.2f',encoding='utf-8', index=False)"
   ]
  },
  {
   "cell_type": "code",
   "execution_count": 51,
   "metadata": {},
   "outputs": [
    {
     "data": {
      "text/html": [
       "<div>\n",
       "<style scoped>\n",
       "    .dataframe tbody tr th:only-of-type {\n",
       "        vertical-align: middle;\n",
       "    }\n",
       "\n",
       "    .dataframe tbody tr th {\n",
       "        vertical-align: top;\n",
       "    }\n",
       "\n",
       "    .dataframe thead th {\n",
       "        text-align: right;\n",
       "    }\n",
       "</style>\n",
       "<table border=\"1\" class=\"dataframe\">\n",
       "  <thead>\n",
       "    <tr style=\"text-align: right;\">\n",
       "      <th></th>\n",
       "      <th>idade</th>\n",
       "      <th>total_dependents</th>\n",
       "      <th>tipo_de_cobranca</th>\n",
       "      <th>assinatura_age</th>\n",
       "      <th>xEstado</th>\n",
       "      <th>xCidade</th>\n",
       "      <th>NumWeeks</th>\n",
       "      <th>churn</th>\n",
       "    </tr>\n",
       "  </thead>\n",
       "  <tbody>\n",
       "    <tr>\n",
       "      <th>count</th>\n",
       "      <td>561158.000000</td>\n",
       "      <td>561158.000000</td>\n",
       "      <td>561158.000000</td>\n",
       "      <td>561158.00000</td>\n",
       "      <td>561158.000000</td>\n",
       "      <td>561158.000000</td>\n",
       "      <td>561158.000000</td>\n",
       "      <td>561158.000000</td>\n",
       "    </tr>\n",
       "    <tr>\n",
       "      <th>mean</th>\n",
       "      <td>44.652333</td>\n",
       "      <td>0.245300</td>\n",
       "      <td>1.772080</td>\n",
       "      <td>1120.70686</td>\n",
       "      <td>17.501609</td>\n",
       "      <td>2995.163587</td>\n",
       "      <td>6.961763</td>\n",
       "      <td>0.034776</td>\n",
       "    </tr>\n",
       "    <tr>\n",
       "      <th>std</th>\n",
       "      <td>26.826041</td>\n",
       "      <td>0.828879</td>\n",
       "      <td>1.007686</td>\n",
       "      <td>1542.64333</td>\n",
       "      <td>9.794661</td>\n",
       "      <td>1642.232574</td>\n",
       "      <td>5.198027</td>\n",
       "      <td>0.183213</td>\n",
       "    </tr>\n",
       "    <tr>\n",
       "      <th>min</th>\n",
       "      <td>0.000000</td>\n",
       "      <td>0.000000</td>\n",
       "      <td>0.000000</td>\n",
       "      <td>-1.00000</td>\n",
       "      <td>0.000000</td>\n",
       "      <td>0.000000</td>\n",
       "      <td>1.000000</td>\n",
       "      <td>0.000000</td>\n",
       "    </tr>\n",
       "    <tr>\n",
       "      <th>25%</th>\n",
       "      <td>30.000000</td>\n",
       "      <td>0.000000</td>\n",
       "      <td>1.000000</td>\n",
       "      <td>91.00000</td>\n",
       "      <td>8.000000</td>\n",
       "      <td>1535.000000</td>\n",
       "      <td>2.000000</td>\n",
       "      <td>0.000000</td>\n",
       "    </tr>\n",
       "    <tr>\n",
       "      <th>50%</th>\n",
       "      <td>41.000000</td>\n",
       "      <td>0.000000</td>\n",
       "      <td>2.000000</td>\n",
       "      <td>328.00000</td>\n",
       "      <td>23.000000</td>\n",
       "      <td>3838.000000</td>\n",
       "      <td>6.000000</td>\n",
       "      <td>0.000000</td>\n",
       "    </tr>\n",
       "    <tr>\n",
       "      <th>75%</th>\n",
       "      <td>55.000000</td>\n",
       "      <td>0.000000</td>\n",
       "      <td>2.000000</td>\n",
       "      <td>1622.00000</td>\n",
       "      <td>27.000000</td>\n",
       "      <td>4290.000000</td>\n",
       "      <td>11.000000</td>\n",
       "      <td>0.000000</td>\n",
       "    </tr>\n",
       "    <tr>\n",
       "      <th>max</th>\n",
       "      <td>119.000000</td>\n",
       "      <td>13.000000</td>\n",
       "      <td>8.000000</td>\n",
       "      <td>6579.00000</td>\n",
       "      <td>29.000000</td>\n",
       "      <td>5245.000000</td>\n",
       "      <td>30.000000</td>\n",
       "      <td>1.000000</td>\n",
       "    </tr>\n",
       "  </tbody>\n",
       "</table>\n",
       "</div>"
      ],
      "text/plain": [
       "               idade  total_dependents  tipo_de_cobranca  assinatura_age  \\\n",
       "count  561158.000000     561158.000000     561158.000000    561158.00000   \n",
       "mean       44.652333          0.245300          1.772080      1120.70686   \n",
       "std        26.826041          0.828879          1.007686      1542.64333   \n",
       "min         0.000000          0.000000          0.000000        -1.00000   \n",
       "25%        30.000000          0.000000          1.000000        91.00000   \n",
       "50%        41.000000          0.000000          2.000000       328.00000   \n",
       "75%        55.000000          0.000000          2.000000      1622.00000   \n",
       "max       119.000000         13.000000          8.000000      6579.00000   \n",
       "\n",
       "             xEstado        xCidade       NumWeeks          churn  \n",
       "count  561158.000000  561158.000000  561158.000000  561158.000000  \n",
       "mean       17.501609    2995.163587       6.961763       0.034776  \n",
       "std         9.794661    1642.232574       5.198027       0.183213  \n",
       "min         0.000000       0.000000       1.000000       0.000000  \n",
       "25%         8.000000    1535.000000       2.000000       0.000000  \n",
       "50%        23.000000    3838.000000       6.000000       0.000000  \n",
       "75%        27.000000    4290.000000      11.000000       0.000000  \n",
       "max        29.000000    5245.000000      30.000000       1.000000  "
      ]
     },
     "execution_count": 51,
     "metadata": {},
     "output_type": "execute_result"
    }
   ],
   "source": [
    "df_User_Weeks.describe()"
   ]
  },
  {
   "cell_type": "code",
   "execution_count": 52,
   "metadata": {},
   "outputs": [
    {
     "data": {
      "image/png": "[encoded data removed]",
      "text/plain": [
       "<Figure size 1440x1080 with 9 Axes>"
      ]
     },
     "metadata": {},
     "output_type": "display_data"
    }
   ],
   "source": [
    "df_User_Weeks.hist(bins=50, figsize=(20,15))\n",
    "plt.show()"
   ]
  },
  {
   "cell_type": "raw",
   "metadata": {},
   "source": [
    "O dataset tem características de desbalanceamento. Conforme pode ser observado no histograma de Churn o número de amostras  com Churn = 0 (Ativo) é muito maior do que os que cancelaram Churn = 1"
   ]
  },
  {
   "cell_type": "code",
   "execution_count": null,
   "metadata": {},
   "outputs": [],
   "source": [
    "df_Zero_User = df_User_Weeks[(df_User_Weeks['idade'] ==0) | (df_User_Weeks['idade'] > 100)]"
   ]
  },
  {
   "cell_type": "code",
   "execution_count": 61,
   "metadata": {},
   "outputs": [],
   "source": [
    "Idade_Maior_100 =df_User_Weeks[df_User_Weeks['idade'] > 100] "
   ]
  },
  {
   "cell_type": "code",
   "execution_count": 62,
   "metadata": {},
   "outputs": [
    {
     "data": {
      "text/plain": [
       "40837"
      ]
     },
     "execution_count": 62,
     "metadata": {},
     "output_type": "execute_result"
    }
   ],
   "source": [
    "len(Idade_Maior_100)"
   ]
  },
  {
   "cell_type": "code",
   "execution_count": 63,
   "metadata": {},
   "outputs": [
    {
     "name": "stderr",
     "output_type": "stream",
     "text": [
      "C:\\Users\\leona\\Anaconda3\\lib\\site-packages\\ipykernel_launcher.py:1: DeprecationWarning: \n",
      ".ix is deprecated. Please use\n",
      ".loc for label based indexing or\n",
      ".iloc for positional indexing\n",
      "\n",
      "See the documentation here:\n",
      "http://pandas.pydata.org/pandas-docs/stable/indexing.html#ix-indexer-is-deprecated\n",
      "  \"\"\"Entry point for launching an IPython kernel.\n"
     ]
    }
   ],
   "source": [
    "df_User_Weeks.ix[df_User_Weeks.idade > 100, ['idade']] = 45"
   ]
  },
  {
   "cell_type": "code",
   "execution_count": 64,
   "metadata": {},
   "outputs": [],
   "source": [
    "Idade_Menor_Dez = df_User_Weeks[df_User_Weeks['idade'] < 10] "
   ]
  },
  {
   "cell_type": "code",
   "execution_count": 65,
   "metadata": {},
   "outputs": [
    {
     "data": {
      "text/plain": [
       "46541"
      ]
     },
     "execution_count": 65,
     "metadata": {},
     "output_type": "execute_result"
    }
   ],
   "source": [
    "len(Idade_Menor_Dez)"
   ]
  },
  {
   "cell_type": "code",
   "execution_count": 66,
   "metadata": {},
   "outputs": [
    {
     "name": "stderr",
     "output_type": "stream",
     "text": [
      "C:\\Users\\leona\\Anaconda3\\lib\\site-packages\\ipykernel_launcher.py:1: DeprecationWarning: \n",
      ".ix is deprecated. Please use\n",
      ".loc for label based indexing or\n",
      ".iloc for positional indexing\n",
      "\n",
      "See the documentation here:\n",
      "http://pandas.pydata.org/pandas-docs/stable/indexing.html#ix-indexer-is-deprecated\n",
      "  \"\"\"Entry point for launching an IPython kernel.\n"
     ]
    }
   ],
   "source": [
    "df_User_Weeks.ix[df_User_Weeks.idade < 10, ['idade']] = 25"
   ]
  },
  {
   "cell_type": "code",
   "execution_count": 67,
   "metadata": {},
   "outputs": [],
   "source": [
    "Idade_Menor_Dez = df_User_Weeks[df_User_Weeks['idade'] < 10] "
   ]
  },
  {
   "cell_type": "code",
   "execution_count": 68,
   "metadata": {},
   "outputs": [
    {
     "data": {
      "text/plain": [
       "0"
      ]
     },
     "execution_count": 68,
     "metadata": {},
     "output_type": "execute_result"
    }
   ],
   "source": [
    "len(Idade_Menor_Dez)"
   ]
  },
  {
   "cell_type": "code",
   "execution_count": 71,
   "metadata": {},
   "outputs": [],
   "source": [
    "def cidade(x):\n",
    "    return df_Cidade.loc[x]"
   ]
  },
  {
   "cell_type": "code",
   "execution_count": 72,
   "metadata": {},
   "outputs": [
    {
     "data": {
      "text/plain": [
       "cidade    Rio Branco\n",
       "Name: 3989, dtype: object"
      ]
     },
     "execution_count": 72,
     "metadata": {},
     "output_type": "execute_result"
    }
   ],
   "source": [
    "city= cidade(3989)\n",
    "city"
   ]
  },
  {
   "cell_type": "markdown",
   "metadata": {},
   "source": [
    "##### Gravando tabela"
   ]
  },
  {
   "cell_type": "code",
   "execution_count": 73,
   "metadata": {},
   "outputs": [],
   "source": [
    "df_User_Weeks.to_csv('User.csv',decimal='.',float_format='%.2f',encoding='utf-8', index=False)"
   ]
  },
  {
   "cell_type": "markdown",
   "metadata": {},
   "source": [
    "#### Consumo de Produtos"
   ]
  },
  {
   "cell_type": "code",
   "execution_count": 78,
   "metadata": {},
   "outputs": [],
   "source": [
    "df_Produtos = df_Status.groupby(['status', 'user'])[\"total_sessions\", \"total_mediaids\",\"total_days\",\"total_played\",\"android_app_time\",\n",
    "                        'ios_app_time','tv_app_time','mobile_web_time','desktop_web_time','time_spent_on_news',\n",
    "                        'time_spent_on_humor','time_spent_on_series','time_spent_on_novelas','time_spent_on_special',\n",
    "                        'time_spent_on_sports','time_spent_on_realities','time_spent_on_disclosure','time_spent_on_archived',\n",
    "                        'time_spent_on_grade','time_spent_on_subscribed_content','time_spent_on_free_content' ,\n",
    "                        'video_info_excerpt_time','video_info_extra_time','video_info_episode_time',\n",
    "                        'video_info_time_spent_0_5','video_info_time_spent_5_15','video_info_time_spent_15_30',\n",
    "                        'video_info_time_spent_30_60','video_info_time_spent_60mais','total_active_dependents'].sum().reset_index()"
   ]
  },
  {
   "cell_type": "code",
   "execution_count": 79,
   "metadata": {},
   "outputs": [
    {
     "data": {
      "text/plain": [
       "561158"
      ]
     },
     "execution_count": 79,
     "metadata": {},
     "output_type": "execute_result"
    }
   ],
   "source": [
    "len(df_Produtos)"
   ]
  },
  {
   "cell_type": "code",
   "execution_count": 80,
   "metadata": {},
   "outputs": [
    {
     "data": {
      "text/html": [
       "<div>\n",
       "<style scoped>\n",
       "    .dataframe tbody tr th:only-of-type {\n",
       "        vertical-align: middle;\n",
       "    }\n",
       "\n",
       "    .dataframe tbody tr th {\n",
       "        vertical-align: top;\n",
       "    }\n",
       "\n",
       "    .dataframe thead th {\n",
       "        text-align: right;\n",
       "    }\n",
       "</style>\n",
       "<table border=\"1\" class=\"dataframe\">\n",
       "  <thead>\n",
       "    <tr style=\"text-align: right;\">\n",
       "      <th></th>\n",
       "      <th>status</th>\n",
       "      <th>user</th>\n",
       "      <th>total_sessions</th>\n",
       "      <th>total_mediaids</th>\n",
       "      <th>total_days</th>\n",
       "      <th>total_played</th>\n",
       "      <th>android_app_time</th>\n",
       "      <th>ios_app_time</th>\n",
       "      <th>tv_app_time</th>\n",
       "      <th>mobile_web_time</th>\n",
       "      <th>...</th>\n",
       "      <th>time_spent_on_free_content</th>\n",
       "      <th>video_info_excerpt_time</th>\n",
       "      <th>video_info_extra_time</th>\n",
       "      <th>video_info_episode_time</th>\n",
       "      <th>video_info_time_spent_0_5</th>\n",
       "      <th>video_info_time_spent_5_15</th>\n",
       "      <th>video_info_time_spent_15_30</th>\n",
       "      <th>video_info_time_spent_30_60</th>\n",
       "      <th>video_info_time_spent_60mais</th>\n",
       "      <th>total_active_dependents</th>\n",
       "    </tr>\n",
       "  </thead>\n",
       "  <tbody>\n",
       "    <tr>\n",
       "      <th>0</th>\n",
       "      <td>0</td>\n",
       "      <td>---3O9IoMUoaGDZG87g6OEDuuo-WYXaxN1pMOCyeqy4=</td>\n",
       "      <td>3</td>\n",
       "      <td>5</td>\n",
       "      <td>3</td>\n",
       "      <td>63.74</td>\n",
       "      <td>0.0</td>\n",
       "      <td>0.00</td>\n",
       "      <td>0.00</td>\n",
       "      <td>0.00</td>\n",
       "      <td>...</td>\n",
       "      <td>10.151633</td>\n",
       "      <td>0.000000</td>\n",
       "      <td>0.000000</td>\n",
       "      <td>48.432983</td>\n",
       "      <td>0.000000</td>\n",
       "      <td>0.000000</td>\n",
       "      <td>0.00000</td>\n",
       "      <td>6.821200</td>\n",
       "      <td>41.611783</td>\n",
       "      <td>0</td>\n",
       "    </tr>\n",
       "    <tr>\n",
       "      <th>1</th>\n",
       "      <td>0</td>\n",
       "      <td>--0JRL6tA0PVx-sTQf35MjH5vZfK1fSi640oHXviUfU=</td>\n",
       "      <td>7</td>\n",
       "      <td>23</td>\n",
       "      <td>6</td>\n",
       "      <td>164.51</td>\n",
       "      <td>0.0</td>\n",
       "      <td>0.00</td>\n",
       "      <td>0.00</td>\n",
       "      <td>0.00</td>\n",
       "      <td>...</td>\n",
       "      <td>31.197317</td>\n",
       "      <td>25.728583</td>\n",
       "      <td>5.468733</td>\n",
       "      <td>63.246000</td>\n",
       "      <td>23.273650</td>\n",
       "      <td>7.923667</td>\n",
       "      <td>0.00000</td>\n",
       "      <td>63.246000</td>\n",
       "      <td>0.000000</td>\n",
       "      <td>0</td>\n",
       "    </tr>\n",
       "    <tr>\n",
       "      <th>2</th>\n",
       "      <td>0</td>\n",
       "      <td>--0YC2EzVcnW7kkoTEwCvRips-nLwRzaL2OpOHAR1K8=</td>\n",
       "      <td>3</td>\n",
       "      <td>3</td>\n",
       "      <td>3</td>\n",
       "      <td>6.10</td>\n",
       "      <td>0.0</td>\n",
       "      <td>6.10</td>\n",
       "      <td>0.00</td>\n",
       "      <td>0.00</td>\n",
       "      <td>...</td>\n",
       "      <td>0.002300</td>\n",
       "      <td>0.000000</td>\n",
       "      <td>0.000000</td>\n",
       "      <td>0.000000</td>\n",
       "      <td>0.000000</td>\n",
       "      <td>0.000000</td>\n",
       "      <td>0.00000</td>\n",
       "      <td>0.000000</td>\n",
       "      <td>0.000000</td>\n",
       "      <td>0</td>\n",
       "    </tr>\n",
       "    <tr>\n",
       "      <th>3</th>\n",
       "      <td>0</td>\n",
       "      <td>--137VN7H4wWewQngTMnsQ==</td>\n",
       "      <td>6</td>\n",
       "      <td>12</td>\n",
       "      <td>6</td>\n",
       "      <td>167.76</td>\n",
       "      <td>0.0</td>\n",
       "      <td>167.52</td>\n",
       "      <td>0.00</td>\n",
       "      <td>0.24</td>\n",
       "      <td>...</td>\n",
       "      <td>0.000000</td>\n",
       "      <td>0.000000</td>\n",
       "      <td>0.000000</td>\n",
       "      <td>0.242983</td>\n",
       "      <td>0.000000</td>\n",
       "      <td>0.000000</td>\n",
       "      <td>0.00000</td>\n",
       "      <td>0.242983</td>\n",
       "      <td>0.000000</td>\n",
       "      <td>0</td>\n",
       "    </tr>\n",
       "    <tr>\n",
       "      <th>4</th>\n",
       "      <td>0</td>\n",
       "      <td>--2wHGzXjzcr3fgcH4hIrwsI-ireVTjV3YA01_Qqf1E=</td>\n",
       "      <td>2</td>\n",
       "      <td>4</td>\n",
       "      <td>2</td>\n",
       "      <td>9.95</td>\n",
       "      <td>0.0</td>\n",
       "      <td>0.00</td>\n",
       "      <td>0.00</td>\n",
       "      <td>9.95</td>\n",
       "      <td>...</td>\n",
       "      <td>4.340117</td>\n",
       "      <td>4.340117</td>\n",
       "      <td>0.000000</td>\n",
       "      <td>5.609350</td>\n",
       "      <td>4.340117</td>\n",
       "      <td>0.000000</td>\n",
       "      <td>0.00000</td>\n",
       "      <td>5.609350</td>\n",
       "      <td>0.000000</td>\n",
       "      <td>0</td>\n",
       "    </tr>\n",
       "    <tr>\n",
       "      <th>5</th>\n",
       "      <td>0</td>\n",
       "      <td>--3SuBT4apjzAVU2DFAEgxuMq28U_yiMRIqdINlnQAk=</td>\n",
       "      <td>58</td>\n",
       "      <td>86</td>\n",
       "      <td>47</td>\n",
       "      <td>2270.97</td>\n",
       "      <td>0.0</td>\n",
       "      <td>0.00</td>\n",
       "      <td>0.00</td>\n",
       "      <td>2255.92</td>\n",
       "      <td>...</td>\n",
       "      <td>28.802567</td>\n",
       "      <td>28.802567</td>\n",
       "      <td>0.000000</td>\n",
       "      <td>2210.781300</td>\n",
       "      <td>9.544583</td>\n",
       "      <td>19.257983</td>\n",
       "      <td>22.50110</td>\n",
       "      <td>1998.442700</td>\n",
       "      <td>189.837500</td>\n",
       "      <td>0</td>\n",
       "    </tr>\n",
       "    <tr>\n",
       "      <th>6</th>\n",
       "      <td>0</td>\n",
       "      <td>--3YA_XfzP7dztFXmyHUWfM1Wf-YKwKH5DdoKHRNsXY=</td>\n",
       "      <td>18</td>\n",
       "      <td>22</td>\n",
       "      <td>18</td>\n",
       "      <td>302.41</td>\n",
       "      <td>0.0</td>\n",
       "      <td>0.00</td>\n",
       "      <td>0.00</td>\n",
       "      <td>0.00</td>\n",
       "      <td>...</td>\n",
       "      <td>0.000000</td>\n",
       "      <td>0.000000</td>\n",
       "      <td>0.000000</td>\n",
       "      <td>0.000000</td>\n",
       "      <td>0.000000</td>\n",
       "      <td>0.000000</td>\n",
       "      <td>0.00000</td>\n",
       "      <td>0.000000</td>\n",
       "      <td>0.000000</td>\n",
       "      <td>0</td>\n",
       "    </tr>\n",
       "    <tr>\n",
       "      <th>7</th>\n",
       "      <td>0</td>\n",
       "      <td>--3n4dc-ayiO6tXl1dA7aqBgo5DUKzdP33FQ6SyHzks=</td>\n",
       "      <td>1</td>\n",
       "      <td>1</td>\n",
       "      <td>1</td>\n",
       "      <td>41.66</td>\n",
       "      <td>0.0</td>\n",
       "      <td>0.00</td>\n",
       "      <td>0.00</td>\n",
       "      <td>0.00</td>\n",
       "      <td>...</td>\n",
       "      <td>0.000000</td>\n",
       "      <td>0.000000</td>\n",
       "      <td>0.000000</td>\n",
       "      <td>41.664217</td>\n",
       "      <td>0.000000</td>\n",
       "      <td>0.000000</td>\n",
       "      <td>0.00000</td>\n",
       "      <td>41.664217</td>\n",
       "      <td>0.000000</td>\n",
       "      <td>0</td>\n",
       "    </tr>\n",
       "    <tr>\n",
       "      <th>8</th>\n",
       "      <td>0</td>\n",
       "      <td>--4UUgmj60T94uUv_d-eRJ7Fhf3Y-NPfUVIP9CS5VQA=</td>\n",
       "      <td>50</td>\n",
       "      <td>70</td>\n",
       "      <td>24</td>\n",
       "      <td>1778.14</td>\n",
       "      <td>0.0</td>\n",
       "      <td>1.97</td>\n",
       "      <td>1769.96</td>\n",
       "      <td>6.21</td>\n",
       "      <td>...</td>\n",
       "      <td>12.982050</td>\n",
       "      <td>12.982050</td>\n",
       "      <td>0.000000</td>\n",
       "      <td>1396.702433</td>\n",
       "      <td>12.982050</td>\n",
       "      <td>0.000000</td>\n",
       "      <td>42.98555</td>\n",
       "      <td>1166.712950</td>\n",
       "      <td>187.003933</td>\n",
       "      <td>0</td>\n",
       "    </tr>\n",
       "    <tr>\n",
       "      <th>9</th>\n",
       "      <td>0</td>\n",
       "      <td>--50-OQvIRVfNQjVMi0qaDVPeaJ8ri0D7OPCapQGrtI=</td>\n",
       "      <td>6</td>\n",
       "      <td>23</td>\n",
       "      <td>4</td>\n",
       "      <td>208.38</td>\n",
       "      <td>0.0</td>\n",
       "      <td>0.00</td>\n",
       "      <td>0.00</td>\n",
       "      <td>60.27</td>\n",
       "      <td>...</td>\n",
       "      <td>112.742450</td>\n",
       "      <td>59.491150</td>\n",
       "      <td>0.000000</td>\n",
       "      <td>0.354583</td>\n",
       "      <td>6.474717</td>\n",
       "      <td>53.016433</td>\n",
       "      <td>0.00000</td>\n",
       "      <td>0.000000</td>\n",
       "      <td>0.354583</td>\n",
       "      <td>0</td>\n",
       "    </tr>\n",
       "    <tr>\n",
       "      <th>10</th>\n",
       "      <td>0</td>\n",
       "      <td>--51vrDLXrdCiVCwlCrBF8shxHJos8-Lgbyv-GiaCwQ=</td>\n",
       "      <td>146</td>\n",
       "      <td>436</td>\n",
       "      <td>67</td>\n",
       "      <td>14753.37</td>\n",
       "      <td>0.0</td>\n",
       "      <td>1525.95</td>\n",
       "      <td>0.00</td>\n",
       "      <td>0.00</td>\n",
       "      <td>...</td>\n",
       "      <td>1428.869317</td>\n",
       "      <td>46.362000</td>\n",
       "      <td>0.000000</td>\n",
       "      <td>7177.872550</td>\n",
       "      <td>40.821633</td>\n",
       "      <td>5.540367</td>\n",
       "      <td>1115.91190</td>\n",
       "      <td>5747.408383</td>\n",
       "      <td>314.552267</td>\n",
       "      <td>0</td>\n",
       "    </tr>\n",
       "    <tr>\n",
       "      <th>11</th>\n",
       "      <td>0</td>\n",
       "      <td>--56DaaJ6yJYlJirbG2lli2r0WLKOREsdHOrid_fAZY=</td>\n",
       "      <td>47</td>\n",
       "      <td>484</td>\n",
       "      <td>36</td>\n",
       "      <td>2954.94</td>\n",
       "      <td>0.0</td>\n",
       "      <td>0.00</td>\n",
       "      <td>0.00</td>\n",
       "      <td>0.00</td>\n",
       "      <td>...</td>\n",
       "      <td>1195.607700</td>\n",
       "      <td>907.247933</td>\n",
       "      <td>0.000000</td>\n",
       "      <td>1759.315100</td>\n",
       "      <td>759.154583</td>\n",
       "      <td>148.093350</td>\n",
       "      <td>59.95775</td>\n",
       "      <td>1610.691000</td>\n",
       "      <td>88.666350</td>\n",
       "      <td>0</td>\n",
       "    </tr>\n",
       "    <tr>\n",
       "      <th>12</th>\n",
       "      <td>0</td>\n",
       "      <td>--5ACot_Zs_Z3Q5QxRWpA7neKUYv4V2krn30FQDiP_A=</td>\n",
       "      <td>57</td>\n",
       "      <td>319</td>\n",
       "      <td>31</td>\n",
       "      <td>1366.05</td>\n",
       "      <td>0.0</td>\n",
       "      <td>0.00</td>\n",
       "      <td>0.00</td>\n",
       "      <td>761.81</td>\n",
       "      <td>...</td>\n",
       "      <td>313.325233</td>\n",
       "      <td>312.509600</td>\n",
       "      <td>0.815633</td>\n",
       "      <td>815.210283</td>\n",
       "      <td>313.273083</td>\n",
       "      <td>0.052150</td>\n",
       "      <td>15.83030</td>\n",
       "      <td>799.379983</td>\n",
       "      <td>0.000000</td>\n",
       "      <td>0</td>\n",
       "    </tr>\n",
       "    <tr>\n",
       "      <th>13</th>\n",
       "      <td>0</td>\n",
       "      <td>--5wFUw_gg9dRPdrUSO6zxenM4C2D1tzk5UZ-JdPdCY=</td>\n",
       "      <td>5</td>\n",
       "      <td>15</td>\n",
       "      <td>5</td>\n",
       "      <td>47.19</td>\n",
       "      <td>0.0</td>\n",
       "      <td>21.30</td>\n",
       "      <td>0.00</td>\n",
       "      <td>25.89</td>\n",
       "      <td>...</td>\n",
       "      <td>25.142350</td>\n",
       "      <td>5.752750</td>\n",
       "      <td>0.899383</td>\n",
       "      <td>0.000000</td>\n",
       "      <td>0.899383</td>\n",
       "      <td>5.752750</td>\n",
       "      <td>0.00000</td>\n",
       "      <td>0.000000</td>\n",
       "      <td>0.000000</td>\n",
       "      <td>0</td>\n",
       "    </tr>\n",
       "    <tr>\n",
       "      <th>14</th>\n",
       "      <td>0</td>\n",
       "      <td>--67Vvs_CORLbPveAuKK-GFMtxl-MGSn7EWPzblCoCA=</td>\n",
       "      <td>19</td>\n",
       "      <td>28</td>\n",
       "      <td>5</td>\n",
       "      <td>23.19</td>\n",
       "      <td>22.1</td>\n",
       "      <td>0.00</td>\n",
       "      <td>0.00</td>\n",
       "      <td>1.09</td>\n",
       "      <td>...</td>\n",
       "      <td>0.287833</td>\n",
       "      <td>0.287833</td>\n",
       "      <td>0.000000</td>\n",
       "      <td>22.905883</td>\n",
       "      <td>0.287500</td>\n",
       "      <td>0.000333</td>\n",
       "      <td>0.00000</td>\n",
       "      <td>22.905883</td>\n",
       "      <td>0.000000</td>\n",
       "      <td>0</td>\n",
       "    </tr>\n",
       "  </tbody>\n",
       "</table>\n",
       "<p>15 rows × 32 columns</p>\n",
       "</div>"
      ],
      "text/plain": [
       "    status                                          user  total_sessions  \\\n",
       "0        0  ---3O9IoMUoaGDZG87g6OEDuuo-WYXaxN1pMOCyeqy4=               3   \n",
       "1        0  --0JRL6tA0PVx-sTQf35MjH5vZfK1fSi640oHXviUfU=               7   \n",
       "2        0  --0YC2EzVcnW7kkoTEwCvRips-nLwRzaL2OpOHAR1K8=               3   \n",
       "3        0                      --137VN7H4wWewQngTMnsQ==               6   \n",
       "4        0  --2wHGzXjzcr3fgcH4hIrwsI-ireVTjV3YA01_Qqf1E=               2   \n",
       "5        0  --3SuBT4apjzAVU2DFAEgxuMq28U_yiMRIqdINlnQAk=              58   \n",
       "6        0  --3YA_XfzP7dztFXmyHUWfM1Wf-YKwKH5DdoKHRNsXY=              18   \n",
       "7        0  --3n4dc-ayiO6tXl1dA7aqBgo5DUKzdP33FQ6SyHzks=               1   \n",
       "8        0  --4UUgmj60T94uUv_d-eRJ7Fhf3Y-NPfUVIP9CS5VQA=              50   \n",
       "9        0  --50-OQvIRVfNQjVMi0qaDVPeaJ8ri0D7OPCapQGrtI=               6   \n",
       "10       0  --51vrDLXrdCiVCwlCrBF8shxHJos8-Lgbyv-GiaCwQ=             146   \n",
       "11       0  --56DaaJ6yJYlJirbG2lli2r0WLKOREsdHOrid_fAZY=              47   \n",
       "12       0  --5ACot_Zs_Z3Q5QxRWpA7neKUYv4V2krn30FQDiP_A=              57   \n",
       "13       0  --5wFUw_gg9dRPdrUSO6zxenM4C2D1tzk5UZ-JdPdCY=               5   \n",
       "14       0  --67Vvs_CORLbPveAuKK-GFMtxl-MGSn7EWPzblCoCA=              19   \n",
       "\n",
       "    total_mediaids  total_days  total_played  android_app_time  ios_app_time  \\\n",
       "0                5           3         63.74               0.0          0.00   \n",
       "1               23           6        164.51               0.0          0.00   \n",
       "2                3           3          6.10               0.0          6.10   \n",
       "3               12           6        167.76               0.0        167.52   \n",
       "4                4           2          9.95               0.0          0.00   \n",
       "5               86          47       2270.97               0.0          0.00   \n",
       "6               22          18        302.41               0.0          0.00   \n",
       "7                1           1         41.66               0.0          0.00   \n",
       "8               70          24       1778.14               0.0          1.97   \n",
       "9               23           4        208.38               0.0          0.00   \n",
       "10             436          67      14753.37               0.0       1525.95   \n",
       "11             484          36       2954.94               0.0          0.00   \n",
       "12             319          31       1366.05               0.0          0.00   \n",
       "13              15           5         47.19               0.0         21.30   \n",
       "14              28           5         23.19              22.1          0.00   \n",
       "\n",
       "    tv_app_time  mobile_web_time           ...             \\\n",
       "0          0.00             0.00           ...              \n",
       "1          0.00             0.00           ...              \n",
       "2          0.00             0.00           ...              \n",
       "3          0.00             0.24           ...              \n",
       "4          0.00             9.95           ...              \n",
       "5          0.00          2255.92           ...              \n",
       "6          0.00             0.00           ...              \n",
       "7          0.00             0.00           ...              \n",
       "8       1769.96             6.21           ...              \n",
       "9          0.00            60.27           ...              \n",
       "10         0.00             0.00           ...              \n",
       "11         0.00             0.00           ...              \n",
       "12         0.00           761.81           ...              \n",
       "13         0.00            25.89           ...              \n",
       "14         0.00             1.09           ...              \n",
       "\n",
       "    time_spent_on_free_content  video_info_excerpt_time  \\\n",
       "0                    10.151633                 0.000000   \n",
       "1                    31.197317                25.728583   \n",
       "2                     0.002300                 0.000000   \n",
       "3                     0.000000                 0.000000   \n",
       "4                     4.340117                 4.340117   \n",
       "5                    28.802567                28.802567   \n",
       "6                     0.000000                 0.000000   \n",
       "7                     0.000000                 0.000000   \n",
       "8                    12.982050                12.982050   \n",
       "9                   112.742450                59.491150   \n",
       "10                 1428.869317                46.362000   \n",
       "11                 1195.607700               907.247933   \n",
       "12                  313.325233               312.509600   \n",
       "13                   25.142350                 5.752750   \n",
       "14                    0.287833                 0.287833   \n",
       "\n",
       "    video_info_extra_time  video_info_episode_time  video_info_time_spent_0_5  \\\n",
       "0                0.000000                48.432983                   0.000000   \n",
       "1                5.468733                63.246000                  23.273650   \n",
       "2                0.000000                 0.000000                   0.000000   \n",
       "3                0.000000                 0.242983                   0.000000   \n",
       "4                0.000000                 5.609350                   4.340117   \n",
       "5                0.000000              2210.781300                   9.544583   \n",
       "6                0.000000                 0.000000                   0.000000   \n",
       "7                0.000000                41.664217                   0.000000   \n",
       "8                0.000000              1396.702433                  12.982050   \n",
       "9                0.000000                 0.354583                   6.474717   \n",
       "10               0.000000              7177.872550                  40.821633   \n",
       "11               0.000000              1759.315100                 759.154583   \n",
       "12               0.815633               815.210283                 313.273083   \n",
       "13               0.899383                 0.000000                   0.899383   \n",
       "14               0.000000                22.905883                   0.287500   \n",
       "\n",
       "    video_info_time_spent_5_15  video_info_time_spent_15_30  \\\n",
       "0                     0.000000                      0.00000   \n",
       "1                     7.923667                      0.00000   \n",
       "2                     0.000000                      0.00000   \n",
       "3                     0.000000                      0.00000   \n",
       "4                     0.000000                      0.00000   \n",
       "5                    19.257983                     22.50110   \n",
       "6                     0.000000                      0.00000   \n",
       "7                     0.000000                      0.00000   \n",
       "8                     0.000000                     42.98555   \n",
       "9                    53.016433                      0.00000   \n",
       "10                    5.540367                   1115.91190   \n",
       "11                  148.093350                     59.95775   \n",
       "12                    0.052150                     15.83030   \n",
       "13                    5.752750                      0.00000   \n",
       "14                    0.000333                      0.00000   \n",
       "\n",
       "    video_info_time_spent_30_60  video_info_time_spent_60mais  \\\n",
       "0                      6.821200                     41.611783   \n",
       "1                     63.246000                      0.000000   \n",
       "2                      0.000000                      0.000000   \n",
       "3                      0.242983                      0.000000   \n",
       "4                      5.609350                      0.000000   \n",
       "5                   1998.442700                    189.837500   \n",
       "6                      0.000000                      0.000000   \n",
       "7                     41.664217                      0.000000   \n",
       "8                   1166.712950                    187.003933   \n",
       "9                      0.000000                      0.354583   \n",
       "10                  5747.408383                    314.552267   \n",
       "11                  1610.691000                     88.666350   \n",
       "12                   799.379983                      0.000000   \n",
       "13                     0.000000                      0.000000   \n",
       "14                    22.905883                      0.000000   \n",
       "\n",
       "    total_active_dependents  \n",
       "0                         0  \n",
       "1                         0  \n",
       "2                         0  \n",
       "3                         0  \n",
       "4                         0  \n",
       "5                         0  \n",
       "6                         0  \n",
       "7                         0  \n",
       "8                         0  \n",
       "9                         0  \n",
       "10                        0  \n",
       "11                        0  \n",
       "12                        0  \n",
       "13                        0  \n",
       "14                        0  \n",
       "\n",
       "[15 rows x 32 columns]"
      ]
     },
     "execution_count": 80,
     "metadata": {},
     "output_type": "execute_result"
    }
   ],
   "source": [
    "df_Produtos.head(15)"
   ]
  },
  {
   "cell_type": "code",
   "execution_count": 81,
   "metadata": {},
   "outputs": [
    {
     "data": {
      "image/png": "[encoded data removed]",
      "text/plain": [
       "<Figure size 1440x1080 with 36 Axes>"
      ]
     },
     "metadata": {},
     "output_type": "display_data"
    }
   ],
   "source": [
    "df_Produtos.hist(bins=50, figsize=(20,15))\n",
    "plt.show()"
   ]
  },
  {
   "cell_type": "code",
   "execution_count": null,
   "metadata": {},
   "outputs": [],
   "source": [
    "# max_played_time** : tempo máximo que passou em uma mídia\n",
    "# age_without_access** : dias que não vem ao produto (anterior ao consumo atual)"
   ]
  },
  {
   "cell_type": "code",
   "execution_count": 82,
   "metadata": {},
   "outputs": [],
   "source": [
    "df_Produtos = df_Produtos.drop(columns='status')"
   ]
  },
  {
   "cell_type": "code",
   "execution_count": 83,
   "metadata": {},
   "outputs": [],
   "source": [
    "df_Churn = pd.merge(df_Produtos, df_User_Weeks, left_on = 'user', right_on = 'user')"
   ]
  },
  {
   "cell_type": "code",
   "execution_count": 84,
   "metadata": {},
   "outputs": [
    {
     "data": {
      "text/plain": [
       "561158"
      ]
     },
     "execution_count": 84,
     "metadata": {},
     "output_type": "execute_result"
    }
   ],
   "source": [
    "len(df_Churn)"
   ]
  },
  {
   "cell_type": "code",
   "execution_count": 85,
   "metadata": {},
   "outputs": [
    {
     "data": {
      "text/html": [
       "<div>\n",
       "<style scoped>\n",
       "    .dataframe tbody tr th:only-of-type {\n",
       "        vertical-align: middle;\n",
       "    }\n",
       "\n",
       "    .dataframe tbody tr th {\n",
       "        vertical-align: top;\n",
       "    }\n",
       "\n",
       "    .dataframe thead th {\n",
       "        text-align: right;\n",
       "    }\n",
       "</style>\n",
       "<table border=\"1\" class=\"dataframe\">\n",
       "  <thead>\n",
       "    <tr style=\"text-align: right;\">\n",
       "      <th></th>\n",
       "      <th>user</th>\n",
       "      <th>total_sessions</th>\n",
       "      <th>total_mediaids</th>\n",
       "      <th>total_days</th>\n",
       "      <th>total_played</th>\n",
       "      <th>android_app_time</th>\n",
       "      <th>ios_app_time</th>\n",
       "      <th>tv_app_time</th>\n",
       "      <th>mobile_web_time</th>\n",
       "      <th>desktop_web_time</th>\n",
       "      <th>...</th>\n",
       "      <th>total_active_dependents</th>\n",
       "      <th>sexo</th>\n",
       "      <th>idade</th>\n",
       "      <th>total_dependents</th>\n",
       "      <th>tipo_de_cobranca</th>\n",
       "      <th>assinatura_age</th>\n",
       "      <th>xEstado</th>\n",
       "      <th>xCidade</th>\n",
       "      <th>NumWeeks</th>\n",
       "      <th>churn</th>\n",
       "    </tr>\n",
       "  </thead>\n",
       "  <tbody>\n",
       "    <tr>\n",
       "      <th>0</th>\n",
       "      <td>---3O9IoMUoaGDZG87g6OEDuuo-WYXaxN1pMOCyeqy4=</td>\n",
       "      <td>3</td>\n",
       "      <td>5</td>\n",
       "      <td>3</td>\n",
       "      <td>63.74</td>\n",
       "      <td>0.0</td>\n",
       "      <td>0.00</td>\n",
       "      <td>0.0</td>\n",
       "      <td>0.00</td>\n",
       "      <td>63.74</td>\n",
       "      <td>...</td>\n",
       "      <td>0</td>\n",
       "      <td>0</td>\n",
       "      <td>25.0</td>\n",
       "      <td>0</td>\n",
       "      <td>1</td>\n",
       "      <td>130.0</td>\n",
       "      <td>0</td>\n",
       "      <td>1</td>\n",
       "      <td>3</td>\n",
       "      <td>0</td>\n",
       "    </tr>\n",
       "    <tr>\n",
       "      <th>1</th>\n",
       "      <td>--0JRL6tA0PVx-sTQf35MjH5vZfK1fSi640oHXviUfU=</td>\n",
       "      <td>7</td>\n",
       "      <td>23</td>\n",
       "      <td>6</td>\n",
       "      <td>164.51</td>\n",
       "      <td>0.0</td>\n",
       "      <td>0.00</td>\n",
       "      <td>0.0</td>\n",
       "      <td>0.00</td>\n",
       "      <td>164.51</td>\n",
       "      <td>...</td>\n",
       "      <td>0</td>\n",
       "      <td>1</td>\n",
       "      <td>34.0</td>\n",
       "      <td>0</td>\n",
       "      <td>2</td>\n",
       "      <td>4176.0</td>\n",
       "      <td>4</td>\n",
       "      <td>2795</td>\n",
       "      <td>5</td>\n",
       "      <td>0</td>\n",
       "    </tr>\n",
       "    <tr>\n",
       "      <th>2</th>\n",
       "      <td>--0YC2EzVcnW7kkoTEwCvRips-nLwRzaL2OpOHAR1K8=</td>\n",
       "      <td>3</td>\n",
       "      <td>3</td>\n",
       "      <td>3</td>\n",
       "      <td>6.10</td>\n",
       "      <td>0.0</td>\n",
       "      <td>6.10</td>\n",
       "      <td>0.0</td>\n",
       "      <td>0.00</td>\n",
       "      <td>0.00</td>\n",
       "      <td>...</td>\n",
       "      <td>0</td>\n",
       "      <td>0</td>\n",
       "      <td>45.0</td>\n",
       "      <td>0</td>\n",
       "      <td>4</td>\n",
       "      <td>61.0</td>\n",
       "      <td>1</td>\n",
       "      <td>3989</td>\n",
       "      <td>3</td>\n",
       "      <td>0</td>\n",
       "    </tr>\n",
       "    <tr>\n",
       "      <th>3</th>\n",
       "      <td>--137VN7H4wWewQngTMnsQ==</td>\n",
       "      <td>6</td>\n",
       "      <td>12</td>\n",
       "      <td>6</td>\n",
       "      <td>167.76</td>\n",
       "      <td>0.0</td>\n",
       "      <td>167.52</td>\n",
       "      <td>0.0</td>\n",
       "      <td>0.24</td>\n",
       "      <td>0.00</td>\n",
       "      <td>...</td>\n",
       "      <td>0</td>\n",
       "      <td>1</td>\n",
       "      <td>64.0</td>\n",
       "      <td>5</td>\n",
       "      <td>2</td>\n",
       "      <td>5198.0</td>\n",
       "      <td>19</td>\n",
       "      <td>3915</td>\n",
       "      <td>5</td>\n",
       "      <td>0</td>\n",
       "    </tr>\n",
       "    <tr>\n",
       "      <th>4</th>\n",
       "      <td>--2wHGzXjzcr3fgcH4hIrwsI-ireVTjV3YA01_Qqf1E=</td>\n",
       "      <td>2</td>\n",
       "      <td>4</td>\n",
       "      <td>2</td>\n",
       "      <td>9.95</td>\n",
       "      <td>0.0</td>\n",
       "      <td>0.00</td>\n",
       "      <td>0.0</td>\n",
       "      <td>9.95</td>\n",
       "      <td>0.00</td>\n",
       "      <td>...</td>\n",
       "      <td>0</td>\n",
       "      <td>2</td>\n",
       "      <td>59.0</td>\n",
       "      <td>0</td>\n",
       "      <td>4</td>\n",
       "      <td>211.0</td>\n",
       "      <td>23</td>\n",
       "      <td>1002</td>\n",
       "      <td>2</td>\n",
       "      <td>0</td>\n",
       "    </tr>\n",
       "  </tbody>\n",
       "</table>\n",
       "<p>5 rows × 40 columns</p>\n",
       "</div>"
      ],
      "text/plain": [
       "                                           user  total_sessions  \\\n",
       "0  ---3O9IoMUoaGDZG87g6OEDuuo-WYXaxN1pMOCyeqy4=               3   \n",
       "1  --0JRL6tA0PVx-sTQf35MjH5vZfK1fSi640oHXviUfU=               7   \n",
       "2  --0YC2EzVcnW7kkoTEwCvRips-nLwRzaL2OpOHAR1K8=               3   \n",
       "3                      --137VN7H4wWewQngTMnsQ==               6   \n",
       "4  --2wHGzXjzcr3fgcH4hIrwsI-ireVTjV3YA01_Qqf1E=               2   \n",
       "\n",
       "   total_mediaids  total_days  total_played  android_app_time  ios_app_time  \\\n",
       "0               5           3         63.74               0.0          0.00   \n",
       "1              23           6        164.51               0.0          0.00   \n",
       "2               3           3          6.10               0.0          6.10   \n",
       "3              12           6        167.76               0.0        167.52   \n",
       "4               4           2          9.95               0.0          0.00   \n",
       "\n",
       "   tv_app_time  mobile_web_time  desktop_web_time  ...    \\\n",
       "0          0.0             0.00             63.74  ...     \n",
       "1          0.0             0.00            164.51  ...     \n",
       "2          0.0             0.00              0.00  ...     \n",
       "3          0.0             0.24              0.00  ...     \n",
       "4          0.0             9.95              0.00  ...     \n",
       "\n",
       "   total_active_dependents  sexo  idade  total_dependents  tipo_de_cobranca  \\\n",
       "0                        0     0   25.0                 0                 1   \n",
       "1                        0     1   34.0                 0                 2   \n",
       "2                        0     0   45.0                 0                 4   \n",
       "3                        0     1   64.0                 5                 2   \n",
       "4                        0     2   59.0                 0                 4   \n",
       "\n",
       "   assinatura_age  xEstado  xCidade  NumWeeks  churn  \n",
       "0           130.0        0        1         3      0  \n",
       "1          4176.0        4     2795         5      0  \n",
       "2            61.0        1     3989         3      0  \n",
       "3          5198.0       19     3915         5      0  \n",
       "4           211.0       23     1002         2      0  \n",
       "\n",
       "[5 rows x 40 columns]"
      ]
     },
     "execution_count": 85,
     "metadata": {},
     "output_type": "execute_result"
    }
   ],
   "source": [
    "df_Churn.head()"
   ]
  },
  {
   "cell_type": "code",
   "execution_count": 86,
   "metadata": {},
   "outputs": [],
   "source": [
    "#Lendo dataSets\n",
    "df_Churn.to_csv('Churn.csv',decimal='.',float_format='%.2f',encoding='utf-8', index=False)"
   ]
  },
  {
   "cell_type": "code",
   "execution_count": null,
   "metadata": {},
   "outputs": [],
   "source": []
  }
 ],
 "metadata": {
  "kernelspec": {
   "display_name": "Python 3",
   "language": "python",
   "name": "python3"
  },
  "language_info": {
   "codemirror_mode": {
    "name": "ipython",
    "version": 3
   },
   "file_extension": ".py",
   "mimetype": "text/x-python",
   "name": "python",
   "nbconvert_exporter": "python",
   "pygments_lexer": "ipython3",
   "version": "3.6.5"
  }
 },
 "nbformat": 4,
 "nbformat_minor": 2
}
