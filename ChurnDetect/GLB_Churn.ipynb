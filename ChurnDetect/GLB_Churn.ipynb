{
 "cells": [
  {
   "cell_type": "code",
   "execution_count": 1,
   "metadata": {},
   "outputs": [],
   "source": [
    "import pandas as pd\n",
    "import numpy as np\n",
    "import matplotlib.pyplot as plt\n",
    "\n",
    "%matplotlib inline"
   ]
  },
  {
   "cell_type": "code",
   "execution_count": 2,
   "metadata": {},
   "outputs": [
    {
     "name": "stderr",
     "output_type": "stream",
     "text": [
      "C:\\Users\\leona\\Anaconda3\\lib\\site-packages\\IPython\\core\\interactiveshell.py:2785: DtypeWarning: Columns (31) have mixed types. Specify dtype option on import or set low_memory=False.\n",
      "  interactivity=interactivity, compiler=compiler, result=result)\n"
     ]
    }
   ],
   "source": [
    "df = pd.read_csv('Churn.csv')"
   ]
  },
  {
   "cell_type": "code",
   "execution_count": 3,
   "metadata": {},
   "outputs": [
    {
     "data": {
      "text/html": [
       "<div>\n",
       "<style scoped>\n",
       "    .dataframe tbody tr th:only-of-type {\n",
       "        vertical-align: middle;\n",
       "    }\n",
       "\n",
       "    .dataframe tbody tr th {\n",
       "        vertical-align: top;\n",
       "    }\n",
       "\n",
       "    .dataframe thead th {\n",
       "        text-align: right;\n",
       "    }\n",
       "</style>\n",
       "<table border=\"1\" class=\"dataframe\">\n",
       "  <thead>\n",
       "    <tr style=\"text-align: right;\">\n",
       "      <th></th>\n",
       "      <th>user</th>\n",
       "      <th>total_sessions</th>\n",
       "      <th>total_mediaids</th>\n",
       "      <th>total_days</th>\n",
       "      <th>total_played</th>\n",
       "      <th>android_app_time</th>\n",
       "      <th>ios_app_time</th>\n",
       "      <th>tv_app_time</th>\n",
       "      <th>mobile_web_time</th>\n",
       "      <th>desktop_web_time</th>\n",
       "      <th>...</th>\n",
       "      <th>total_active_dependents</th>\n",
       "      <th>sexo</th>\n",
       "      <th>idade</th>\n",
       "      <th>total_dependents</th>\n",
       "      <th>tipo_de_cobranca</th>\n",
       "      <th>assinatura_age</th>\n",
       "      <th>xEstado</th>\n",
       "      <th>xCidade</th>\n",
       "      <th>NumWeeks</th>\n",
       "      <th>churn</th>\n",
       "    </tr>\n",
       "  </thead>\n",
       "  <tbody>\n",
       "    <tr>\n",
       "      <th>0</th>\n",
       "      <td>---3O9IoMUoaGDZG87g6OEDuuo-WYXaxN1pMOCyeqy4=</td>\n",
       "      <td>3</td>\n",
       "      <td>5</td>\n",
       "      <td>3</td>\n",
       "      <td>63.74</td>\n",
       "      <td>0.0</td>\n",
       "      <td>0.00</td>\n",
       "      <td>0.0</td>\n",
       "      <td>0.00</td>\n",
       "      <td>63.74</td>\n",
       "      <td>...</td>\n",
       "      <td>0</td>\n",
       "      <td>0</td>\n",
       "      <td>25.0</td>\n",
       "      <td>0</td>\n",
       "      <td>1</td>\n",
       "      <td>130.0</td>\n",
       "      <td>0</td>\n",
       "      <td>1</td>\n",
       "      <td>3</td>\n",
       "      <td>0</td>\n",
       "    </tr>\n",
       "    <tr>\n",
       "      <th>1</th>\n",
       "      <td>--0JRL6tA0PVx-sTQf35MjH5vZfK1fSi640oHXviUfU=</td>\n",
       "      <td>7</td>\n",
       "      <td>23</td>\n",
       "      <td>6</td>\n",
       "      <td>164.51</td>\n",
       "      <td>0.0</td>\n",
       "      <td>0.00</td>\n",
       "      <td>0.0</td>\n",
       "      <td>0.00</td>\n",
       "      <td>164.51</td>\n",
       "      <td>...</td>\n",
       "      <td>0</td>\n",
       "      <td>1</td>\n",
       "      <td>34.0</td>\n",
       "      <td>0</td>\n",
       "      <td>2</td>\n",
       "      <td>4176.0</td>\n",
       "      <td>4</td>\n",
       "      <td>2795</td>\n",
       "      <td>5</td>\n",
       "      <td>0</td>\n",
       "    </tr>\n",
       "    <tr>\n",
       "      <th>2</th>\n",
       "      <td>--0YC2EzVcnW7kkoTEwCvRips-nLwRzaL2OpOHAR1K8=</td>\n",
       "      <td>3</td>\n",
       "      <td>3</td>\n",
       "      <td>3</td>\n",
       "      <td>6.10</td>\n",
       "      <td>0.0</td>\n",
       "      <td>6.10</td>\n",
       "      <td>0.0</td>\n",
       "      <td>0.00</td>\n",
       "      <td>0.00</td>\n",
       "      <td>...</td>\n",
       "      <td>0</td>\n",
       "      <td>0</td>\n",
       "      <td>45.0</td>\n",
       "      <td>0</td>\n",
       "      <td>4</td>\n",
       "      <td>61.0</td>\n",
       "      <td>1</td>\n",
       "      <td>3989</td>\n",
       "      <td>3</td>\n",
       "      <td>0</td>\n",
       "    </tr>\n",
       "    <tr>\n",
       "      <th>3</th>\n",
       "      <td>--137VN7H4wWewQngTMnsQ==</td>\n",
       "      <td>6</td>\n",
       "      <td>12</td>\n",
       "      <td>6</td>\n",
       "      <td>167.76</td>\n",
       "      <td>0.0</td>\n",
       "      <td>167.52</td>\n",
       "      <td>0.0</td>\n",
       "      <td>0.24</td>\n",
       "      <td>0.00</td>\n",
       "      <td>...</td>\n",
       "      <td>0</td>\n",
       "      <td>1</td>\n",
       "      <td>64.0</td>\n",
       "      <td>5</td>\n",
       "      <td>2</td>\n",
       "      <td>5198.0</td>\n",
       "      <td>19</td>\n",
       "      <td>3915</td>\n",
       "      <td>5</td>\n",
       "      <td>0</td>\n",
       "    </tr>\n",
       "    <tr>\n",
       "      <th>4</th>\n",
       "      <td>--2wHGzXjzcr3fgcH4hIrwsI-ireVTjV3YA01_Qqf1E=</td>\n",
       "      <td>2</td>\n",
       "      <td>4</td>\n",
       "      <td>2</td>\n",
       "      <td>9.95</td>\n",
       "      <td>0.0</td>\n",
       "      <td>0.00</td>\n",
       "      <td>0.0</td>\n",
       "      <td>9.95</td>\n",
       "      <td>0.00</td>\n",
       "      <td>...</td>\n",
       "      <td>0</td>\n",
       "      <td>2</td>\n",
       "      <td>59.0</td>\n",
       "      <td>0</td>\n",
       "      <td>4</td>\n",
       "      <td>211.0</td>\n",
       "      <td>23</td>\n",
       "      <td>1002</td>\n",
       "      <td>2</td>\n",
       "      <td>0</td>\n",
       "    </tr>\n",
       "  </tbody>\n",
       "</table>\n",
       "<p>5 rows × 40 columns</p>\n",
       "</div>"
      ],
      "text/plain": [
       "                                           user  total_sessions  \\\n",
       "0  ---3O9IoMUoaGDZG87g6OEDuuo-WYXaxN1pMOCyeqy4=               3   \n",
       "1  --0JRL6tA0PVx-sTQf35MjH5vZfK1fSi640oHXviUfU=               7   \n",
       "2  --0YC2EzVcnW7kkoTEwCvRips-nLwRzaL2OpOHAR1K8=               3   \n",
       "3                      --137VN7H4wWewQngTMnsQ==               6   \n",
       "4  --2wHGzXjzcr3fgcH4hIrwsI-ireVTjV3YA01_Qqf1E=               2   \n",
       "\n",
       "   total_mediaids  total_days  total_played  android_app_time  ios_app_time  \\\n",
       "0               5           3         63.74               0.0          0.00   \n",
       "1              23           6        164.51               0.0          0.00   \n",
       "2               3           3          6.10               0.0          6.10   \n",
       "3              12           6        167.76               0.0        167.52   \n",
       "4               4           2          9.95               0.0          0.00   \n",
       "\n",
       "   tv_app_time  mobile_web_time  desktop_web_time  ...    \\\n",
       "0          0.0             0.00             63.74  ...     \n",
       "1          0.0             0.00            164.51  ...     \n",
       "2          0.0             0.00              0.00  ...     \n",
       "3          0.0             0.24              0.00  ...     \n",
       "4          0.0             9.95              0.00  ...     \n",
       "\n",
       "   total_active_dependents  sexo  idade  total_dependents  tipo_de_cobranca  \\\n",
       "0                        0     0   25.0                 0                 1   \n",
       "1                        0     1   34.0                 0                 2   \n",
       "2                        0     0   45.0                 0                 4   \n",
       "3                        0     1   64.0                 5                 2   \n",
       "4                        0     2   59.0                 0                 4   \n",
       "\n",
       "   assinatura_age  xEstado  xCidade  NumWeeks  churn  \n",
       "0           130.0        0        1         3      0  \n",
       "1          4176.0        4     2795         5      0  \n",
       "2            61.0        1     3989         3      0  \n",
       "3          5198.0       19     3915         5      0  \n",
       "4           211.0       23     1002         2      0  \n",
       "\n",
       "[5 rows x 40 columns]"
      ]
     },
     "execution_count": 3,
     "metadata": {},
     "output_type": "execute_result"
    }
   ],
   "source": [
    "df.head()"
   ]
  },
  {
   "cell_type": "code",
   "execution_count": 4,
   "metadata": {},
   "outputs": [],
   "source": [
    "# Estas features não serão consideradas para a previsão do Churn\n",
    "df_Features= df.drop(['user','sexo','idade','total_dependents','tipo_de_cobranca','xEstado','xCidade'], axis=1)"
   ]
  },
  {
   "cell_type": "code",
   "execution_count": 5,
   "metadata": {},
   "outputs": [],
   "source": [
    "#df_Features.to_csv('Globo_Com.csv',decimal='.',float_format='%.2f',encoding='utf-8', index=False)"
   ]
  },
  {
   "cell_type": "code",
   "execution_count": 6,
   "metadata": {},
   "outputs": [
    {
     "data": {
      "text/plain": [
       "561158"
      ]
     },
     "execution_count": 6,
     "metadata": {},
     "output_type": "execute_result"
    }
   ],
   "source": [
    "len(df_Features)"
   ]
  },
  {
   "cell_type": "markdown",
   "metadata": {},
   "source": [
    "##### Análise do Balanceamento do Dataset"
   ]
  },
  {
   "cell_type": "markdown",
   "metadata": {},
   "source": [
    "1- Data Sampling - Consiste na geração de novos exemplos positivos, ou na remoção de exemplos negativos, dada alguma heurística para balancear o conjunto de dados.\n",
    "\n",
    "2- Cost Sensitive Learning - Atribui um custo para que o algoritmo aprenda que é muito pior perder um exemplo positivo do que um exemplo negativo.\n",
    "\n",
    "3- Algorithm Adjustment - Modifica o Algoritmo de Aprendizado de Máquina para ser menos sensível a conjuntos de dados desbalanceados e sobrepostos a classes.\n"
   ]
  },
  {
   "cell_type": "code",
   "execution_count": 7,
   "metadata": {},
   "outputs": [
    {
     "data": {
      "text/plain": [
       "541643"
      ]
     },
     "execution_count": 7,
     "metadata": {},
     "output_type": "execute_result"
    }
   ],
   "source": [
    "n_churn_0 = df_Features[df_Features['churn']==0]\n",
    "n_churn_1 = df_Features[df_Features['churn']==1]\n",
    "len(n_churn_0)\n"
   ]
  },
  {
   "cell_type": "code",
   "execution_count": 8,
   "metadata": {},
   "outputs": [
    {
     "data": {
      "text/plain": [
       "19515"
      ]
     },
     "execution_count": 8,
     "metadata": {},
     "output_type": "execute_result"
    }
   ],
   "source": [
    "len(n_churn_1)"
   ]
  },
  {
   "cell_type": "code",
   "execution_count": 9,
   "metadata": {},
   "outputs": [
    {
     "data": {
      "text/plain": [
       "3.6029266509490565"
      ]
     },
     "execution_count": 9,
     "metadata": {},
     "output_type": "execute_result"
    }
   ],
   "source": [
    "Percentual_Churn = (19515/541643)*100\n",
    "Percentual_Churn"
   ]
  },
  {
   "cell_type": "markdown",
   "metadata": {},
   "source": [
    "##### Data Sampling"
   ]
  },
  {
   "cell_type": "code",
   "execution_count": 10,
   "metadata": {},
   "outputs": [],
   "source": [
    "from sklearn.utils import resample\n",
    "\n",
    "df_majority = df_Features[df_Features['churn']==0]\n",
    "df_minority = df_Features[df_Features['churn']==1]\n",
    "\n",
    "df_minority_upsampled = resample(df_minority,replace=True,\n",
    "                        n_samples=541643, #Número de amostra da classe majoritária\n",
    "                        random_state=1) # Seed value for resampling\n"
   ]
  },
  {
   "cell_type": "code",
   "execution_count": 11,
   "metadata": {},
   "outputs": [
    {
     "data": {
      "text/plain": [
       "1    541643\n",
       "0    541643\n",
       "Name: churn, dtype: int64"
      ]
     },
     "execution_count": 11,
     "metadata": {},
     "output_type": "execute_result"
    }
   ],
   "source": [
    "df_Features_upsampled = pd.concat([df_majority, df_minority_upsampled])\n",
    "df_Features_upsampled['churn'].value_counts()"
   ]
  },
  {
   "cell_type": "code",
   "execution_count": 12,
   "metadata": {},
   "outputs": [
    {
     "data": {
      "text/plain": [
       "1083286"
      ]
     },
     "execution_count": 12,
     "metadata": {},
     "output_type": "execute_result"
    }
   ],
   "source": [
    "len(df_Features_upsampled)"
   ]
  },
  {
   "cell_type": "raw",
   "metadata": {},
   "source": [
    "Os testes com este DataSet apresentaram baixo valor para a Accuracy (67). Seria necessário uma análise mais detalhada para obter\n",
    "valores mais altos"
   ]
  },
  {
   "cell_type": "markdown",
   "metadata": {},
   "source": [
    "##### Processando o Dataset Original"
   ]
  },
  {
   "cell_type": "code",
   "execution_count": 13,
   "metadata": {},
   "outputs": [],
   "source": [
    "from sklearn.model_selection import train_test_split\n",
    "train, test = train_test_split(df_Features, test_size = 0.20)\n",
    "\n",
    "y_train = train['churn']\n",
    "y_test = test['churn']\n",
    "\n",
    "x_train = train\n",
    "x_train = x_train.drop(columns = 'churn' )\n",
    "\n",
    "x_test  = test\n",
    "x_test  = x_test.drop(columns = 'churn' )"
   ]
  },
  {
   "cell_type": "code",
   "execution_count": 14,
   "metadata": {},
   "outputs": [],
   "source": [
    "# Para instalar a Lib Graphviz : conda install python-graphviz\n",
    "from sklearn import tree\n",
    "import graphviz \n",
    " \n",
    "# Criando a Árvore de Decisão \n",
    "decisionTree = tree.DecisionTreeClassifier(max_depth = 4)\n",
    " \n",
    "# Fit da Árvore \n",
    "decisionTree = decisionTree.fit(X=x_train, y=y_train)\n",
    " \n",
    "# Gera a Árvore em PDF\n",
    "churnTreeA = tree.export_graphviz(decisionTree, out_file=None, \n",
    "                         feature_names = list(x_train.columns.values),  \n",
    "                         class_names = ['No Churn', 'Churn'],                                             \n",
    "                         filled=True, rounded=True,  \n",
    "                         special_characters=True) \n",
    "\n",
    "\n",
    "\n"
   ]
  },
  {
   "cell_type": "code",
   "execution_count": 41,
   "metadata": {},
   "outputs": [
    {
     "data": {
      "text/plain": [
       "'0.8.4'"
      ]
     },
     "execution_count": 41,
     "metadata": {},
     "output_type": "execute_result"
    }
   ],
   "source": [
    "graphviz.__version__"
   ]
  },
  {
   "cell_type": "markdown",
   "metadata": {},
   "source": [
    "##### Desenho (PDF) da Árvore"
   ]
  },
  {
   "cell_type": "code",
   "execution_count": 15,
   "metadata": {},
   "outputs": [
    {
     "data": {
      "text/plain": [
       "'Globo_Churn_Tree.gv.pdf'"
      ]
     },
     "execution_count": 15,
     "metadata": {},
     "output_type": "execute_result"
    }
   ],
   "source": [
    "graph = graphviz.Source(churnTreeA)\n",
    "graph.render('Globo_Churn_Tree.gv', view=True)"
   ]
  },
  {
   "cell_type": "markdown",
   "metadata": {},
   "source": [
    "### Métricas"
   ]
  },
  {
   "cell_type": "code",
   "execution_count": 36,
   "metadata": {},
   "outputs": [
    {
     "data": {
      "text/plain": [
       "'0.20.1'"
      ]
     },
     "execution_count": 36,
     "metadata": {},
     "output_type": "execute_result"
    }
   ],
   "source": [
    "import sklearn.metrics \n",
    "from sklearn.metrics import f1_score\n",
    "from sklearn.metrics import balanced_accuracy_score\n",
    "sklearn.__version__"
   ]
  },
  {
   "cell_type": "code",
   "execution_count": 37,
   "metadata": {},
   "outputs": [],
   "source": [
    "y_pred = decisionTree.predict(x_test)"
   ]
  },
  {
   "cell_type": "markdown",
   "metadata": {},
   "source": [
    "#### Acuracia"
   ]
  },
  {
   "cell_type": "code",
   "execution_count": 38,
   "metadata": {},
   "outputs": [
    {
     "name": "stdout",
     "output_type": "stream",
     "text": [
      "Accuracia no  test set: 0.97\n"
     ]
    }
   ],
   "source": [
    "print('Accuracia no  test set: {:.2f}'.format(decisionTree.score(x_test, y_test)))"
   ]
  },
  {
   "cell_type": "markdown",
   "metadata": {},
   "source": [
    "#### F1 - Weighted"
   ]
  },
  {
   "cell_type": "code",
   "execution_count": 42,
   "metadata": {},
   "outputs": [
    {
     "data": {
      "text/plain": [
       "0.9548818794057222"
      ]
     },
     "execution_count": 42,
     "metadata": {},
     "output_type": "execute_result"
    }
   ],
   "source": [
    "f1_score(y_test, y_pred, average='weighted')"
   ]
  },
  {
   "cell_type": "markdown",
   "metadata": {},
   "source": [
    "#### Balanced Accuracy"
   ]
  },
  {
   "cell_type": "code",
   "execution_count": 40,
   "metadata": {},
   "outputs": [
    {
     "data": {
      "text/plain": [
       "0.5510471416120877"
      ]
     },
     "execution_count": 40,
     "metadata": {},
     "output_type": "execute_result"
    }
   ],
   "source": [
    "balanced_accuracy_score(y_test, y_pred)"
   ]
  },
  {
   "cell_type": "code",
   "execution_count": null,
   "metadata": {},
   "outputs": [],
   "source": []
  }
 ],
 "metadata": {
  "kernelspec": {
   "display_name": "Python 3",
   "language": "python",
   "name": "python3"
  },
  "language_info": {
   "codemirror_mode": {
    "name": "ipython",
    "version": 3
   },
   "file_extension": ".py",
   "mimetype": "text/x-python",
   "name": "python",
   "nbconvert_exporter": "python",
   "pygments_lexer": "ipython3",
   "version": "3.6.5"
  }
 },
 "nbformat": 4,
 "nbformat_minor": 2
}
