{
 "cells": [
  {
   "cell_type": "code",
   "execution_count": 2,
   "metadata": {},
   "outputs": [
    {
     "name": "stderr",
     "output_type": "stream",
     "text": [
      "Using TensorFlow backend.\n"
     ]
    }
   ],
   "source": [
    "# Convolutional Neural Network\n",
    "\n",
    "# Importing the Keras libraries and packages\n",
    "from keras.models import Sequential\n",
    "from keras.layers import Conv2D\n",
    "from keras.layers import MaxPooling2D\n",
    "from keras.layers import Flatten\n",
    "from keras.layers import Dense\n",
    "\n"
   ]
  },
  {
   "cell_type": "code",
   "execution_count": 3,
   "metadata": {},
   "outputs": [],
   "source": [
    "# Initialising the CNN\n",
    "classifier = Sequential()\n",
    "\n",
    "# Step 1 - Convolution\n",
    "classifier.add(Conv2D(32, (3, 3), input_shape = (64, 64, 3), activation = 'relu'))\n",
    "\n",
    "# Step 2 - Pooling\n",
    "classifier.add(MaxPooling2D(pool_size = (2, 2)))\n",
    "\n",
    "# Adding a second convolutional layer\n",
    "classifier.add(Conv2D(32, (3, 3), activation = 'relu'))\n",
    "classifier.add(MaxPooling2D(pool_size = (2, 2)))\n",
    "\n",
    "# Step 3 - Flattening\n",
    "classifier.add(Flatten())\n",
    "\n",
    "# Step 4 - Full connection\n",
    "classifier.add(Dense(units = 128, activation = 'relu'))\n",
    "classifier.add(Dense(units = 1, activation = 'sigmoid'))\n",
    "\n",
    "# Compiling the CNN\n",
    "classifier.compile(optimizer = 'adam', loss = 'binary_crossentropy', metrics = ['accuracy'])\n",
    "\n"
   ]
  },
  {
   "cell_type": "code",
   "execution_count": 4,
   "metadata": {},
   "outputs": [],
   "source": [
    "# Part 2 - Fitting the CNN to the images\n",
    "\n",
    "from keras.preprocessing.image import ImageDataGenerator\n",
    "\n",
    "train_datagen = ImageDataGenerator(rescale = 1./255,\n",
    "                                   shear_range = 0.2,\n",
    "                                   zoom_range = 0.2,\n",
    "                                   horizontal_flip = True)\n",
    "\n"
   ]
  },
  {
   "cell_type": "code",
   "execution_count": 5,
   "metadata": {},
   "outputs": [
    {
     "name": "stdout",
     "output_type": "stream",
     "text": [
      "Found 4676 images belonging to 2 classes.\n"
     ]
    }
   ],
   "source": [
    "test_datagen = ImageDataGenerator(rescale = 1./255)\n",
    "\n",
    "training_set = train_datagen.flow_from_directory('C:/TensorFlow/dataset/training_set',\n",
    "                                                 target_size = (64, 64),\n",
    "                                                 batch_size = 32,\n",
    "                                                 class_mode = 'binary')\n",
    "\n"
   ]
  },
  {
   "cell_type": "code",
   "execution_count": 6,
   "metadata": {},
   "outputs": [
    {
     "name": "stdout",
     "output_type": "stream",
     "text": [
      "Found 2023 images belonging to 2 classes.\n"
     ]
    }
   ],
   "source": [
    "test_set = test_datagen.flow_from_directory('C:/TensorFlow/dataset/test_set',\n",
    "                                            target_size = (64, 64),\n",
    "                                            batch_size = 32,\n",
    "                                            class_mode = 'binary')\n",
    "\n"
   ]
  },
  {
   "cell_type": "code",
   "execution_count": null,
   "metadata": {},
   "outputs": [
    {
     "name": "stdout",
     "output_type": "stream",
     "text": [
      "Epoch 1/25\n",
      "8000/8000 [==============================] - 1074s 134ms/step - loss: 0.2793 - acc: 0.8769 - val_loss: 1.1776 - val_acc: 0.7395\n",
      "Epoch 2/25\n",
      "8000/8000 [==============================] - 1077s 135ms/step - loss: 0.0644 - acc: 0.9770 - val_loss: 1.7547 - val_acc: 0.7257\n",
      "Epoch 3/25\n",
      "8000/8000 [==============================] - 1077s 135ms/step - loss: 0.0332 - acc: 0.9887 - val_loss: 1.9273 - val_acc: 0.7360\n",
      "Epoch 4/25\n",
      "8000/8000 [==============================] - 1093s 137ms/step - loss: 0.0241 - acc: 0.9919 - val_loss: 2.1900 - val_acc: 0.7355\n",
      "Epoch 5/25\n",
      "8000/8000 [==============================] - 1084s 135ms/step - loss: 0.0206 - acc: 0.9934 - val_loss: 2.4863 - val_acc: 0.7103\n",
      "Epoch 6/25\n",
      "8000/8000 [==============================] - 1068s 133ms/step - loss: 0.0155 - acc: 0.9950 - val_loss: 2.3698 - val_acc: 0.7355\n",
      "Epoch 7/25\n",
      "8000/8000 [==============================] - 1067s 133ms/step - loss: 0.0138 - acc: 0.9957 - val_loss: 2.6235 - val_acc: 0.7138\n",
      "Epoch 8/25\n",
      "8000/8000 [==============================] - 1038s 130ms/step - loss: 0.0121 - acc: 0.9961 - val_loss: 2.6441 - val_acc: 0.7192\n",
      "Epoch 9/25\n",
      "8000/8000 [==============================] - 1066s 133ms/step - loss: 0.0099 - acc: 0.9969 - val_loss: 2.7362 - val_acc: 0.7177\n",
      "Epoch 10/25\n",
      "8000/8000 [==============================] - 1083s 135ms/step - loss: 0.0099 - acc: 0.9970 - val_loss: 2.6752 - val_acc: 0.7217\n",
      "Epoch 11/25\n",
      "8000/8000 [==============================] - 1285s 161ms/step - loss: 0.0090 - acc: 0.9973 - val_loss: 2.7693 - val_acc: 0.7108\n",
      "Epoch 12/25\n",
      "8000/8000 [==============================] - 1089s 136ms/step - loss: 0.0081 - acc: 0.9976 - val_loss: 2.6582 - val_acc: 0.7306\n",
      "Epoch 13/25\n",
      "8000/8000 [==============================] - 1067s 133ms/step - loss: 0.0079 - acc: 0.9976 - val_loss: 2.7599 - val_acc: 0.7207\n",
      "Epoch 14/25\n",
      "8000/8000 [==============================] - 1078s 135ms/step - loss: 0.0075 - acc: 0.9979 - val_loss: 2.4436 - val_acc: 0.7400\n",
      "Epoch 15/25\n",
      "1317/8000 [===>..........................] - ETA: 15:55 - loss: 0.0070 - acc: 0.9979"
     ]
    }
   ],
   "source": [
    "classifier.fit_generator(training_set,\n",
    "                         steps_per_epoch = 8000,\n",
    "                         epochs = 25,\n",
    "                         validation_data = test_set,\n",
    "                         validation_steps = 2000)"
   ]
  },
  {
   "cell_type": "code",
   "execution_count": null,
   "metadata": {},
   "outputs": [],
   "source": [
    "import numpy as np\n",
    "from keras.preprocessing import image\n",
    "test_image = image.load_img('C:/TensorFlow/dataset/single_prediction/cat_or_dog_1.jpg', target_size = (64, 64))\n",
    "test_image = image.img_to_array(test_image)\n",
    "test_image = np.expand_dims(test_image, axis = 0)\n",
    "result = classifier.predict(test_image)\n",
    "training_set.class_indices\n",
    "if result[0][0] == 1:\n",
    "   prediction = 'dog'\n",
    "else:\n",
    "   prediction = 'cat'"
   ]
  },
  {
   "cell_type": "code",
   "execution_count": null,
   "metadata": {},
   "outputs": [],
   "source": [
    "prediction"
   ]
  }
 ],
 "metadata": {
  "kernelspec": {
   "display_name": "Python 3",
   "language": "python",
   "name": "python3"
  },
  "language_info": {
   "codemirror_mode": {
    "name": "ipython",
    "version": 3
   },
   "file_extension": ".py",
   "mimetype": "text/x-python",
   "name": "python",
   "nbconvert_exporter": "python",
   "pygments_lexer": "ipython3",
   "version": "3.5.6"
  }
 },
 "nbformat": 4,
 "nbformat_minor": 2
}
